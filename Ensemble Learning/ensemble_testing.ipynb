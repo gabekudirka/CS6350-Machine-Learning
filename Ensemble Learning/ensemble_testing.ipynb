{
 "cells": [
  {
   "cell_type": "code",
   "execution_count": 2,
   "source": [
    "import sys\r\n",
    "sys.path.append('../')\r\n",
    "import numpy as np\r\n",
    "import pandas as pd\r\n",
    "from decision_tree import DecisionTree as DecisionTree\r\n",
    "from DecisionTree.decision_tree import DecisionTree as DecisionTreeOG\r\n",
    "from AdaBoost import AdaBoostTree\r\n",
    "from BaggedTrees import BaggedTrees, RandomForest\r\n",
    "import matplotlib.pyplot as plt"
   ],
   "outputs": [],
   "metadata": {}
  },
  {
   "cell_type": "code",
   "execution_count": 3,
   "source": [
    "def test_tree_accuracy(decision_tree, test_data):\r\n",
    "    preds = test_data.apply(lambda row : decision_tree.predict(row), axis=1)\r\n",
    "    diff = preds == test_data['label']\r\n",
    "    if (diff == True).all():\r\n",
    "        return 0\r\n",
    "    else:\r\n",
    "        error_count = diff.value_counts()[False]\r\n",
    "        return error_count / len(test_data)"
   ],
   "outputs": [],
   "metadata": {}
  },
  {
   "cell_type": "code",
   "execution_count": 4,
   "source": [
    "def process_data(df, attributes, replace_unknown=False, map_labels=True):\r\n",
    "    #If specified, replace all 'uknown' values with column majority\r\n",
    "    if replace_unknown:\r\n",
    "        for attribute in attributes:\r\n",
    "            if df[attribute].dtype.kind not in 'iufc':\r\n",
    "                most_common = 'unknown'\r\n",
    "                counts = df[attribute].value_counts()\r\n",
    "                if counts[[0]].index[0] == 'unknown' and len(counts) > 1:\r\n",
    "                    most_common = counts[[1]].index[0]\r\n",
    "                else:\r\n",
    "                    most_common = counts[[0]].index[0]\r\n",
    "                df[attribute][df[attribute] == 'unknown'] = most_common\r\n",
    "    \r\n",
    "    #Replace numerical columns with boolean values based on median threshold\r\n",
    "    for attribute in attributes:\r\n",
    "        if df[attribute].dtype.kind in 'iufc':\r\n",
    "            median = df[attribute].median()\r\n",
    "            binary_col = df[attribute] > median\r\n",
    "            df[attribute] = binary_col\r\n",
    "\r\n",
    "    if map_labels:\r\n",
    "        df.label[df.label == 'yes'] = 1\r\n",
    "        df.label[df.label == 'no'] = -1\r\n",
    "            \r\n",
    "    return df"
   ],
   "outputs": [],
   "metadata": {}
  },
  {
   "cell_type": "code",
   "execution_count": 5,
   "source": [
    "attributes = ['age', 'job', 'marital', 'education', 'default', 'balance', 'housing', \r\n",
    "'loan', 'contact', 'day', 'month', 'duration', 'campaign', 'pdays', 'previous', 'poutcome']\r\n",
    "\r\n",
    "df_train = pd.read_csv('../data/bank/train.csv', names=attributes + ['label'])\r\n",
    "df_test = pd.read_csv('../data/bank/test.csv', names=attributes + ['label'])\r\n",
    "\r\n",
    "df_train = process_data(df_train, attributes, replace_unknown=False)\r\n",
    "df_test = process_data(df_test, attributes, replace_unknown=False)"
   ],
   "outputs": [],
   "metadata": {}
  },
  {
   "cell_type": "code",
   "execution_count": null,
   "source": [
    "#Test AdaBoost\r\n",
    "training_errors_ab = []\r\n",
    "test_errors_ab = []\r\n",
    "T = [1, 3, 5, 10, 15, 20, 30, 40, 50, 75, 100, 150, 200, 250, 300, 400, 500]\r\n",
    "adaboost_predictors = []\r\n",
    "\r\n",
    "for t in T:\r\n",
    "    adaboost = AdaBoostTree(df_train, attributes)\r\n",
    "    adaboost.build_model(t)\r\n",
    "    training_errors_ab.append(test_tree_accuracy(adaboost, df_train))\r\n",
    "    test_errors_ab.append(test_tree_accuracy(adaboost, df_test))\r\n",
    "    adaboost_predictors.append(adaboost)\r\n"
   ],
   "outputs": [],
   "metadata": {}
  },
  {
   "cell_type": "code",
   "execution_count": 29,
   "source": [
    "print(test_tree_accuracy(adaboost_predictors[-1], df_train))\r\n",
    "print(test_tree_accuracy(adaboost_predictors[-1], df_test))"
   ],
   "outputs": [
    {
     "output_type": "stream",
     "name": "stdout",
     "text": [
      "0.1028\n",
      "0.1076\n"
     ]
    }
   ],
   "metadata": {}
  },
  {
   "cell_type": "code",
   "execution_count": 37,
   "source": [
    "f = plt.figure()\r\n",
    "f.set_figwidth(10)\r\n",
    "f.set_figheight(8)\r\n",
    "plt.plot(T, training_errors_ab, label='Training Error')\r\n",
    "plt.plot(T, test_errors_ab, label='Testing Error')\r\n",
    "plt.title('Adaboost Test/Training Error by Iteration')\r\n",
    "plt.xlabel('Number of iterations')\r\n",
    "plt.ylabel('Error')\r\n",
    "plt.legend()"
   ],
   "outputs": [
    {
     "output_type": "execute_result",
     "data": {
      "text/plain": [
       "<matplotlib.legend.Legend at 0x1cc826b8c10>"
      ]
     },
     "metadata": {},
     "execution_count": 37
    },
    {
     "output_type": "display_data",
     "data": {
      "text/plain": [
       "<Figure size 720x576 with 1 Axes>"
      ],
      "image/png": "[encoded data removed]"
     },
     "metadata": {
      "needs_background": "light"
     }
    }
   ],
   "metadata": {}
  },
  {
   "cell_type": "code",
   "execution_count": 22,
   "source": [
    "training_errors_stumps = []\r\n",
    "testing_errors_stumps = []\r\n",
    "for i, predictor in enumerate(adaboost_predictors):\r\n",
    "    training_errors_stumps_iter = []\r\n",
    "    testing_errors_stumps_iter = []\r\n",
    "    for stump in predictor.classifiers:\r\n",
    "        training_errors_stumps_iter.append(test_tree_accuracy(stump, df_train))\r\n",
    "        testing_errors_stumps_iter.append(test_tree_accuracy(stump, df_test))\r\n",
    "    training_errors_stumps.append(training_errors_stumps_iter)\r\n",
    "    testing_errors_stumps.append(testing_errors_stumps_iter)"
   ],
   "outputs": [],
   "metadata": {}
  },
  {
   "cell_type": "code",
   "execution_count": 36,
   "source": [
    "f = plt.figure()\r\n",
    "f.set_figwidth(12)\r\n",
    "f.set_figheight(16)\r\n",
    "\r\n",
    "for i, iter_errors in enumerate(training_errors_stumps):\r\n",
    "    for error in iter_errors:\r\n",
    "        plt.scatter(T[i], error, c='r', s=2)\r\n",
    "for i, iter_errors in enumerate(testing_errors_stumps):\r\n",
    "    for error in iter_errors:\r\n",
    "        plt.scatter(T[i], error,  c='b', s=2)\r\n",
    "\r\n",
    "# plt.plot(T, training_errors_stumps, label='Training Error')\r\n",
    "# plt.plot(T, testing_errors_stumps, label='Testing Error')\r\n",
    "plt.title('Stump Errors by Iteration')\r\n",
    "plt.xlabel('Number of iterations')\r\n",
    "plt.ylabel('Error')"
   ],
   "outputs": [
    {
     "output_type": "execute_result",
     "data": {
      "text/plain": [
       "Text(0, 0.5, 'Error')"
      ]
     },
     "metadata": {},
     "execution_count": 36
    },
    {
     "output_type": "display_data",
     "data": {
      "text/plain": [
       "<Figure size 864x1152 with 1 Axes>"
      ],
      "image/png": "[encoded data removed]"
     },
     "metadata": {
      "needs_background": "light"
     }
    }
   ],
   "metadata": {}
  },
  {
   "cell_type": "code",
   "execution_count": 35,
   "source": [
    "f = plt.figure()\r\n",
    "f.set_figwidth(10)\r\n",
    "f.set_figheight(8)\r\n",
    "\r\n",
    "for i, iter_errors in enumerate(training_errors_stumps):\r\n",
    "    mean = sum(iter_errors) / len(iter_errors)\r\n",
    "    plt.scatter(T[i], mean, label='Training Error', c='r')\r\n",
    "for i, iter_errors in enumerate(testing_errors_stumps):\r\n",
    "    mean = sum(iter_errors) / len(iter_errors)\r\n",
    "    plt.scatter(T[i], mean, label='Testing Error', c='b')\r\n",
    "\r\n",
    "plt.title('Mean Stump Error by Iteration')\r\n",
    "plt.xlabel('Number of iterations')\r\n",
    "plt.ylabel('Error')"
   ],
   "outputs": [
    {
     "output_type": "execute_result",
     "data": {
      "text/plain": [
       "Text(0, 0.5, 'Error')"
      ]
     },
     "metadata": {},
     "execution_count": 35
    },
    {
     "output_type": "display_data",
     "data": {
      "text/plain": [
       "<Figure size 720x576 with 1 Axes>"
      ],
      "image/png": "[encoded data removed]"
     },
     "metadata": {
      "needs_background": "light"
     }
    }
   ],
   "metadata": {}
  },
  {
   "cell_type": "code",
   "execution_count": null,
   "source": [
    "#Test Bagged Trees\r\n",
    "training_errors = []\r\n",
    "test_errors = []\r\n",
    "T = [1, 3, 5, 10, 15, 20, 30, 40, 50, 75, 100, 150, 200, 250, 300, 400, 500]\r\n",
    "\r\n",
    "for t in T:\r\n",
    "    bagged_trees = BaggedTrees(df_train, attributes)\r\n",
    "    bagged_trees.build_trees(t)\r\n",
    "    training_errors.append(test_tree_accuracy(bagged_trees, df_train))\r\n",
    "    test_errors.append(test_tree_accuracy(bagged_trees, df_test)) \r\n"
   ],
   "outputs": [],
   "metadata": {}
  },
  {
   "cell_type": "code",
   "execution_count": null,
   "source": [
    "textfile = open(\"training_errs_bt.txt\", \"w\")\r\n",
    "for element in training_errors:\r\n",
    "    textfile.write(str(element) + \", \")\r\n",
    "textfile.close()"
   ],
   "outputs": [],
   "metadata": {}
  },
  {
   "cell_type": "code",
   "execution_count": null,
   "source": [
    "textfile = open(\"test_errs_bt.txt\", \"w\")\r\n",
    "for element in test_errors:\r\n",
    "    textfile.write(str(element) + \", \")\r\n",
    "textfile.close()"
   ],
   "outputs": [],
   "metadata": {}
  },
  {
   "cell_type": "code",
   "execution_count": 49,
   "source": [
    "#Test original decision tree\r\n",
    "dtree_nolimit = DecisionTree(df_train, attributes).build_tree('entropy', float('inf'))\r\n",
    "dtree_best = DecisionTree(df_train, attributes).build_tree('entropy', 3)\r\n"
   ],
   "outputs": [],
   "metadata": {}
  },
  {
   "cell_type": "code",
   "execution_count": null,
   "source": [
    "print('No limit tree accuracy on test: %f' % test_tree_accuracy(dtree_nolimit, df_test))\r\n",
    "print('No limit tree accuracy on train: %f' % test_tree_accuracy(dtree_nolimit, df_train))\r\n",
    "\r\n",
    "print('Best tree accuracy on test: %f' % test_tree_accuracy(dtree_best, df_test))\r\n",
    "print('Best tree accuracy on train: %f' % test_tree_accuracy(dtree_best, df_train))"
   ],
   "outputs": [],
   "metadata": {}
  },
  {
   "cell_type": "code",
   "execution_count": null,
   "source": [
    "#Bagged Trees bias/variance decomposition\r\n",
    "num_trees = 500\r\n",
    "num_samples = 1000\r\n",
    "bagged_predictors = []\r\n",
    "\r\n",
    "for i in range(2):\r\n",
    "    bagged_trees = BaggedTrees(df_train, attributes)\r\n",
    "    bagged_trees.build_trees(num_trees, num_samples)\r\n",
    "    bagged_predictors.append(bagged_trees)\r\n"
   ],
   "outputs": [],
   "metadata": {}
  },
  {
   "cell_type": "code",
   "execution_count": 47,
   "source": [
    "single_trees = [predictor.trees[0] for predictor in bagged_predictors]\r\n",
    "single_tree_biases = []\r\n",
    "single_tree_variances = []\r\n",
    "ctr = 0\r\n",
    "for idx, row in df_test.iterrows():\r\n",
    "    preds = []\r\n",
    "    for tree in single_trees:\r\n",
    "        try:\r\n",
    "            pred = tree.predict(row)\r\n",
    "        except:\r\n",
    "            ctr+=1\r\n",
    "            continue\r\n",
    "        preds.append(pred)\r\n",
    "    preds = np.asarray(preds)\r\n",
    "    avg_pred = np.mean(preds)\r\n",
    "    bias = (avg_pred - row['label'])**2\r\n",
    "    single_tree_biases.append(bias)\r\n",
    "    var = np.var(preds)\r\n",
    "    single_tree_variances.append(var)\r\n",
    "single_tree_bias = sum(single_tree_biases) / len(single_tree_biases)\r\n",
    "single_tree_var = sum(single_tree_variances) / len(single_tree_variances)\r\n",
    "single_tree_squared_err = single_tree_bias + single_tree_var\r\n",
    "print(ctr)\r\n",
    "\r\n",
    "bagged_tree_biases = []\r\n",
    "bagged_tree_variances = []\r\n",
    "ctr = 0\r\n",
    "for idx, row in df_test.iterrows():\r\n",
    "    preds = []\r\n",
    "    for predictor in bagged_predictors:\r\n",
    "        try:\r\n",
    "            pred = predictor.predict(row)\r\n",
    "        except:\r\n",
    "            ctr+=1\r\n",
    "            continue\r\n",
    "        preds.append(pred)\r\n",
    "    preds = np.asarray(preds)\r\n",
    "    avg_pred = np.mean(preds)\r\n",
    "    bias = (avg_pred - row['label'])**2\r\n",
    "    if np.isnan(bias):\r\n",
    "        print(preds)\r\n",
    "        print(avg_pred)\r\n",
    "        print(row['label'])\r\n",
    "        break\r\n",
    "    bagged_tree_biases.append(bias)\r\n",
    "    var = np.var(preds)\r\n",
    "    bagged_tree_variances.append(var)\r\n",
    "print(ctr)\r\n",
    "bagged_trees_bias = sum(bagged_tree_biases) / len(bagged_tree_biases)\r\n",
    "bagged_trees_var = sum(bagged_tree_variances) / len(bagged_tree_variances)\r\n",
    "bagged_trees_squared_err = bagged_trees_bias + bagged_trees_var\r\n"
   ],
   "outputs": [
    {
     "output_type": "stream",
     "name": "stdout",
     "text": [
      "0\n",
      "[]\n",
      "nan\n",
      "-1\n",
      "2\n"
     ]
    },
    {
     "output_type": "stream",
     "name": "stderr",
     "text": [
      "C:\\Users\\Gabrielius Kudirka\\AppData\\Roaming\\Python\\Python39\\site-packages\\numpy\\core\\fromnumeric.py:3372: RuntimeWarning: Mean of empty slice.\n",
      "  return _methods._mean(a, axis=axis, dtype=dtype,\n",
      "C:\\Users\\Gabrielius Kudirka\\AppData\\Roaming\\Python\\Python39\\site-packages\\numpy\\core\\_methods.py:170: RuntimeWarning: invalid value encountered in double_scalars\n",
      "  ret = ret.dtype.type(ret / rcount)\n"
     ]
    }
   ],
   "metadata": {}
  },
  {
   "cell_type": "code",
   "execution_count": 43,
   "source": [
    "bagged_tree_biases = np.asarray(bagged_tree_biases)\r\n",
    "bagged_tree_variances = np.asarray(bagged_tree_variances)\r\n",
    "\r\n",
    "bagged_tree_biases = bagged_tree_biases[~np.isnan(bagged_tree_biases)]\r\n",
    "bagged_tree_variances = bagged_tree_variances[~np.isnan(bagged_tree_variances)]\r\n",
    "\r\n",
    "bagged_trees_bias = sum(bagged_tree_biases) / len(bagged_tree_biases)\r\n",
    "bagged_trees_var = sum(bagged_tree_variances) / len(bagged_tree_variances)\r\n",
    "bagged_trees_squared_err = bagged_trees_bias + bagged_trees_var"
   ],
   "outputs": [],
   "metadata": {}
  },
  {
   "cell_type": "code",
   "execution_count": 46,
   "source": [
    "print('Single Trees Bias: %f' % single_tree_bias)\r\n",
    "print('Single Trees Variance: %f' % single_tree_var)\r\n",
    "print('Single Trees Estimated Squared Error: %f' % single_tree_squared_err)\r\n",
    "\r\n",
    "print('Bagged Trees Bias: %f' % bagged_trees_bias)\r\n",
    "print('Bagged Trees Variance: %f' % bagged_trees_var)\r\n",
    "print('Bagged Trees Estimated Squared Error: %f' % bagged_trees_squared_err)"
   ],
   "outputs": [
    {
     "output_type": "stream",
     "name": "stdout",
     "text": [
      "Single Trees Bias: 0.505200\n",
      "Single Trees Variance: 0.194000\n",
      "Single Trees Estimated Squared Error: 0.699200\n",
      "Bagged Trees Bias: 0.438843\n",
      "Bagged Trees Variance: 0.117493\n",
      "Bagged Trees Estimated Squared Error: 0.556337\n"
     ]
    }
   ],
   "metadata": {}
  },
  {
   "cell_type": "code",
   "execution_count": null,
   "source": [
    "#Test Random Forest\r\n",
    "training_errors_rf = {}\r\n",
    "test_errors_rf = {}\r\n",
    "T = [1, 3, 5, 10, 15, 20, 30, 40, 50, 75, 100, 150, 200, 250, 300, 400, 500]\r\n",
    "subset_sizes = [2, 4, 6]\r\n",
    "\r\n",
    "for subset_size in subset_sizes:\r\n",
    "    training_errors_rf[subset_size] = []\r\n",
    "    test_errors_rf[subset_size] = []\r\n",
    "    for t in T:\r\n",
    "        random_forest = RandomForest(df_train, attributes)\r\n",
    "        random_forest.build_trees(t, subset_size)\r\n",
    "        training_errors_rf[subset_size].append(test_tree_accuracy(random_forest, df_train))\r\n",
    "        test_errors_rf[subset_size].append(test_tree_accuracy(random_forest, df_test))\r\n"
   ],
   "outputs": [],
   "metadata": {}
  },
  {
   "cell_type": "code",
   "execution_count": null,
   "source": [
    "import json\r\n",
    "\r\n",
    "with open('training_errs_rf.txt', 'w') as convert_file:\r\n",
    "     convert_file.write(json.dumps(training_errors_rf))\r\n",
    "\r\n",
    "with open('test_errors_rf_rf.txt', 'w') as convert_file:\r\n",
    "     convert_file.write(json.dumps(test_errors_rf))"
   ],
   "outputs": [],
   "metadata": {}
  },
  {
   "cell_type": "code",
   "execution_count": 10,
   "source": [
    "#Random Forest bias/variance decomposition\r\n",
    "num_trees = 110\r\n",
    "num_samples = 800\r\n",
    "rf_predictors = []\r\n",
    "ctr = 0\r\n",
    "for i in range(20):\r\n",
    "    random_forest = RandomForest(df_train, attributes)\r\n",
    "    random_forest.build_trees(num_trees, 2, num_samples)\r\n",
    "    rf_predictors.append(random_forest)\r\n",
    "    ctr += 1\r\n",
    "    print(ctr)\r\n"
   ],
   "outputs": [
    {
     "output_type": "stream",
     "name": "stdout",
     "text": [
      "1\n",
      "2\n",
      "3\n",
      "4\n",
      "5\n",
      "6\n",
      "7\n",
      "8\n",
      "9\n",
      "10\n",
      "11\n",
      "12\n",
      "13\n",
      "14\n",
      "15\n",
      "16\n",
      "17\n",
      "18\n",
      "19\n",
      "20\n"
     ]
    }
   ],
   "metadata": {}
  },
  {
   "cell_type": "code",
   "execution_count": 11,
   "source": [
    "single_trees = [predictor.trees[0] for predictor in rf_predictors]\r\n",
    "single_tree_biases = []\r\n",
    "single_tree_variances = []\r\n",
    "ctr = 0\r\n",
    "for idx, row in df_test.iterrows():\r\n",
    "    preds = []\r\n",
    "    for tree in single_trees:\r\n",
    "        try:\r\n",
    "            pred = tree.predict(row)\r\n",
    "        except:\r\n",
    "            ctr+=1\r\n",
    "            continue\r\n",
    "        preds.append(pred)\r\n",
    "    preds = np.asarray(preds)\r\n",
    "    avg_pred = np.mean(preds)\r\n",
    "    bias = (avg_pred - row['label'])**2\r\n",
    "    single_tree_biases.append(bias)\r\n",
    "    var = np.var(preds)\r\n",
    "    single_tree_variances.append(var)\r\n",
    "single_tree_bias = sum(single_tree_biases) / len(single_tree_biases)\r\n",
    "single_tree_var = sum(single_tree_variances) / len(single_tree_variances)\r\n",
    "single_tree_squared_err = single_tree_bias + single_tree_var\r\n",
    "print(ctr)\r\n",
    "\r\n",
    "bagged_tree_biases = []\r\n",
    "bagged_tree_variances = []\r\n",
    "ctr = 0\r\n",
    "for idx, row in df_test.iterrows():\r\n",
    "    preds = []\r\n",
    "    for predictor in rf_predictors:\r\n",
    "        try:\r\n",
    "            pred = predictor.predict(row)\r\n",
    "        except:\r\n",
    "            ctr+=1\r\n",
    "            continue\r\n",
    "        preds.append(pred)\r\n",
    "    preds = np.asarray(preds)\r\n",
    "    avg_pred = np.mean(preds)\r\n",
    "    bias = (avg_pred - row['label'])**2\r\n",
    "    if np.isnan(bias):\r\n",
    "        print(preds)\r\n",
    "        print(avg_pred)\r\n",
    "        print(row['label'])\r\n",
    "        break\r\n",
    "    bagged_tree_biases.append(bias)\r\n",
    "    var = np.var(preds)\r\n",
    "    bagged_tree_variances.append(var)\r\n",
    "print(ctr)\r\n",
    "bagged_trees_bias = sum(bagged_tree_biases) / len(bagged_tree_biases)\r\n",
    "bagged_trees_var = sum(bagged_tree_variances) / len(bagged_tree_variances)\r\n",
    "bagged_trees_squared_err = bagged_trees_bias + bagged_trees_var\r\n"
   ],
   "outputs": [
    {
     "output_type": "stream",
     "name": "stdout",
     "text": [
      "3\n",
      "850\n"
     ]
    }
   ],
   "metadata": {}
  },
  {
   "cell_type": "code",
   "execution_count": 12,
   "source": [
    "bagged_tree_biases = np.asarray(bagged_tree_biases)\r\n",
    "bagged_tree_variances = np.asarray(bagged_tree_variances)\r\n",
    "\r\n",
    "bagged_tree_biases = bagged_tree_biases[~np.isnan(bagged_tree_biases)]\r\n",
    "bagged_tree_variances = bagged_tree_variances[~np.isnan(bagged_tree_variances)]\r\n",
    "\r\n",
    "bagged_trees_bias = sum(bagged_tree_biases) / len(bagged_tree_biases)\r\n",
    "bagged_trees_var = sum(bagged_tree_variances) / len(bagged_tree_variances)\r\n",
    "bagged_trees_squared_err = bagged_trees_bias + bagged_trees_var"
   ],
   "outputs": [],
   "metadata": {}
  },
  {
   "cell_type": "code",
   "execution_count": 13,
   "source": [
    "#Print and save results\r\n",
    "print('Single Trees Bias: %f' % single_tree_bias)\r\n",
    "print('Single Trees Variance: %f' % single_tree_var)\r\n",
    "print('Single Trees Estimated Squared Error: %f' % single_tree_squared_err)\r\n",
    "\r\n",
    "print('Random Forest Bias: %f' % bagged_trees_bias)\r\n",
    "print('Random Forest Variance: %f' % bagged_trees_var)\r\n",
    "print('Random Forest Estimated Squared Error: %f' % bagged_trees_squared_err)\r\n"
   ],
   "outputs": [
    {
     "output_type": "stream",
     "name": "stdout",
     "text": [
      "Single Trees Bias: 0.365423\n",
      "Single Trees Variance: 0.318543\n",
      "Single Trees Estimated Squared Error: 0.683966\n",
      "Random Forest Bias: 0.430535\n",
      "Random Forest Variance: 0.061495\n",
      "Random Forest Estimated Squared Error: 0.492030\n"
     ]
    }
   ],
   "metadata": {}
  }
 ],
 "metadata": {
  "orig_nbformat": 4,
  "language_info": {
   "name": "python",
   "version": "3.9.6",
   "mimetype": "text/x-python",
   "codemirror_mode": {
    "name": "ipython",
    "version": 3
   },
   "pygments_lexer": "ipython3",
   "nbconvert_exporter": "python",
   "file_extension": ".py"
  },
  "kernelspec": {
   "name": "python3",
   "display_name": "Python 3.9.6 64-bit"
  },
  "interpreter": {
   "hash": "63fd5069d213b44bf678585dea6b12cceca9941eaf7f819626cde1f2670de90d"
  }
 },
 "nbformat": 4,
 "nbformat_minor": 2
}