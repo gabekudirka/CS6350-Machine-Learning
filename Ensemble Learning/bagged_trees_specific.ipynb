{
 "cells": [
  {
   "cell_type": "code",
   "execution_count": 2,
   "metadata": {},
   "outputs": [],
   "source": [
    "import numpy as np\n",
    "import pandas as pd\n",
    "from decision_tree import DecisionTree as DecisionTreeAdaBoost\n",
    "from decision_tree import DecisionTree\n",
    "from AdaBoost import AdaBoostTree\n",
    "from BaggedTrees import BaggedTrees, RandomForest"
   ]
  },
  {
   "cell_type": "code",
   "execution_count": 3,
   "metadata": {},
   "outputs": [],
   "source": [
    "def test_tree_accuracy(decision_tree, test_data):\n",
    "    preds = test_data.apply(lambda row : decision_tree.predict(row), axis=1)\n",
    "    diff = preds == test_data['label']\n",
    "    if (diff == True).all():\n",
    "        return 0\n",
    "    else:\n",
    "        error_count = diff.value_counts()[False]\n",
    "        return error_count / len(test_data)"
   ]
  },
  {
   "cell_type": "code",
   "execution_count": 4,
   "metadata": {},
   "outputs": [],
   "source": [
    "def process_data(df, attributes, replace_unknown=False, map_labels=True):\n",
    "    #If specified, replace all 'uknown' values with column majority\n",
    "    if replace_unknown:\n",
    "        for attribute in attributes:\n",
    "            if df[attribute].dtype.kind not in 'iufc':\n",
    "                most_common = 'unknown'\n",
    "                counts = df[attribute].value_counts()\n",
    "                if counts[[0]].index[0] == 'unknown' and len(counts) > 1:\n",
    "                    most_common = counts[[1]].index[0]\n",
    "                else:\n",
    "                    most_common = counts[[0]].index[0]\n",
    "                df[attribute][df[attribute] == 'unknown'] = most_common\n",
    "    \n",
    "    #Replace numerical columns with boolean values based on median threshold\n",
    "    for attribute in attributes:\n",
    "        if df[attribute].dtype.kind in 'iufc':\n",
    "            median = df[attribute].median()\n",
    "            binary_col = df[attribute] > median\n",
    "            df[attribute] = binary_col\n",
    "\n",
    "    if map_labels:\n",
    "        df.label[df.label == 'yes'] = 1\n",
    "        df.label[df.label == 'no'] = -1\n",
    "            \n",
    "    return df"
   ]
  },
  {
   "cell_type": "code",
   "execution_count": 5,
   "metadata": {},
   "outputs": [],
   "source": [
    "attributes = ['age', 'job', 'marital', 'education', 'default', 'balance', 'housing', \n",
    "'loan', 'contact', 'day', 'month', 'duration', 'campaign', 'pdays', 'previous', 'poutcome']\n",
    "\n",
    "df_train = pd.read_csv('../data/bank/train.csv', names=attributes + ['label'])\n",
    "df_test = pd.read_csv('../data/bank/test.csv', names=attributes + ['label'])\n",
    "\n",
    "df_train = process_data(df_train, attributes, replace_unknown=False)\n",
    "df_test = process_data(df_test, attributes, replace_unknown=False)"
   ]
  },
  {
   "cell_type": "code",
   "execution_count": 6,
   "metadata": {},
   "outputs": [],
   "source": [
    "#Bagged Trees bias/variance decomposition\n",
    "num_trees = 100\n",
    "num_samples = 500\n",
    "bagged_predictors = []\n",
    "\n",
    "for i in range(3):\n",
    "    bagged_trees = BaggedTrees(df_train, attributes, df_train)\n",
    "    bagged_trees.build_trees(num_trees, num_samples)\n",
    "    bagged_predictors.append(bagged_trees)"
   ]
  },
  {
   "cell_type": "code",
   "execution_count": 9,
   "metadata": {},
   "outputs": [
    {
     "name": "stdout",
     "output_type": "stream",
     "text": [
      "0\n"
     ]
    }
   ],
   "source": [
    "single_trees = [predictor.trees[0] for predictor in bagged_predictors]\n",
    "single_tree_biases = []\n",
    "single_tree_variances = []\n",
    "ctr = 0\n",
    "for idx, row in df_test.iterrows():\n",
    "    preds = []\n",
    "    for tree in single_trees:\n",
    "        try:\n",
    "            pred = tree.predict(row)\n",
    "        except:\n",
    "            ctr+=1\n",
    "            continue\n",
    "        preds.append(pred)\n",
    "    preds = np.asarray(preds)\n",
    "    avg_pred = np.mean(preds)\n",
    "    bias = (avg_pred - row['label'])**2\n",
    "    single_tree_biases.append(bias)\n",
    "    var = np.var(preds)\n",
    "    single_tree_variances.append(var)\n",
    "single_tree_bias = sum(single_tree_biases) / len(single_tree_biases)\n",
    "single_tree_var = sum(single_tree_variances) / len(single_tree_variances)\n",
    "single_tree_squared_err = single_tree_bias + single_tree_var\n",
    "print(ctr)"
   ]
  },
  {
   "cell_type": "code",
   "execution_count": 10,
   "metadata": {},
   "outputs": [
    {
     "name": "stdout",
     "output_type": "stream",
     "text": [
      "0\n"
     ]
    }
   ],
   "source": [
    "bagged_tree_biases = []\n",
    "bagged_tree_variances = []\n",
    "ctr = 0\n",
    "for idx, row in df_test.iterrows():\n",
    "    preds = []\n",
    "    for predictor in bagged_predictors:\n",
    "        try:\n",
    "            pred = predictor.predict(row)\n",
    "        except:\n",
    "            ctr+=1\n",
    "            continue\n",
    "        preds.append(pred)\n",
    "    preds = np.asarray(preds)\n",
    "    avg_pred = np.mean(preds)\n",
    "    bias = (avg_pred - row['label'])**2\n",
    "    bagged_tree_biases.append(bias)\n",
    "    var = np.var(preds)\n",
    "    bagged_tree_variances.append(var)\n",
    "print(ctr)\n",
    "bagged_trees_bias = sum(bagged_tree_biases) / len(bagged_tree_biases)\n",
    "bagged_trees_var = sum(bagged_tree_variances) / len(bagged_tree_variances)\n",
    "bagged_trees_squared_err = bagged_trees_bias + bagged_trees_var"
   ]
  },
  {
   "cell_type": "code",
   "execution_count": 11,
   "metadata": {},
   "outputs": [
    {
     "name": "stdout",
     "output_type": "stream",
     "text": [
      "Single Trees Bias: 0.462400\n",
      "Single Trees Variance: 0.274133\n",
      "Single Trees Estimated Squared Error: 0.736533\n",
      "Bagged Trees Bias: 0.430844\n",
      "Bagged Trees Variance: 0.144356\n",
      "Bagged Trees Estimated Squared Error: 0.575200\n"
     ]
    }
   ],
   "source": [
    "print('Single Trees Bias: %f' % single_tree_bias)\n",
    "print('Single Trees Variance: %f' % single_tree_var)\n",
    "print('Single Trees Estimated Squared Error: %f' % single_tree_squared_err)\n",
    "\n",
    "print('Bagged Trees Bias: %f' % bagged_trees_bias)\n",
    "print('Bagged Trees Variance: %f' % bagged_trees_var)\n",
    "print('Bagged Trees Estimated Squared Error: %f' % bagged_trees_squared_err)"
   ]
  },
  {
   "cell_type": "code",
   "execution_count": null,
   "metadata": {},
   "outputs": [],
   "source": [
    "bagged_tree_biases = np.asarray(bagged_tree_biases)\n",
    "bagged_tree_variances = np.asarray(bagged_tree_variances)\n",
    "\n",
    "bagged_tree_biases = bagged_tree_biases[~np.isnan(bagged_tree_biases)]\n",
    "bagged_tree_variances = bagged_tree_variances[~np.isnan(bagged_tree_variances)]\n",
    "\n",
    "bagged_trees_bias = sum(bagged_tree_biases) / len(bagged_tree_biases)\n",
    "bagged_trees_var = sum(bagged_tree_variances) / len(bagged_tree_variances)\n",
    "bagged_trees_squared_err = bagged_trees_bias + bagged_trees_var"
   ]
  }
 ],
 "metadata": {
  "kernelspec": {
   "display_name": "Python 3.9.7 64-bit",
   "language": "python",
   "name": "python3"
  },
  "language_info": {
   "codemirror_mode": {
    "name": "ipython",
    "version": 3
   },
   "file_extension": ".py",
   "mimetype": "text/x-python",
   "name": "python",
   "nbconvert_exporter": "python",
   "pygments_lexer": "ipython3",
   "version": "3.9.7"
  },
  "orig_nbformat": 4,
  "vscode": {
   "interpreter": {
    "hash": "aee8b7b246df8f9039afb4144a1f6fd8d2ca17a180786b69acc140d282b71a49"
   }
  }
 },
 "nbformat": 4,
 "nbformat_minor": 2
}
