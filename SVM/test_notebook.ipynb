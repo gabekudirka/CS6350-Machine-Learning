{
 "cells": [
  {
   "cell_type": "code",
   "execution_count": null,
   "source": [],
   "outputs": [],
   "metadata": {}
  },
  {
   "cell_type": "code",
   "execution_count": 1,
   "source": [
    "import numpy as np\r\n",
    "import pandas as pd\r\n",
    "from SVM import SVMClassifier"
   ],
   "outputs": [],
   "metadata": {}
  },
  {
   "cell_type": "code",
   "execution_count": 8,
   "source": [
    "def test_accuracy(model, X_test, y_test):\r\n",
    "    i = 0\r\n",
    "    for idx, xi in enumerate(X_test):\r\n",
    "        if model.predict(xi) != y_test[idx]:\r\n",
    "            i+=1\r\n",
    "    return i / len(y_test)"
   ],
   "outputs": [],
   "metadata": {}
  },
  {
   "cell_type": "code",
   "execution_count": 3,
   "source": [
    "attributes = ['variance','skewness','curtosis','entropy','genuine']\r\n",
    "\r\n",
    "df_train = pd.read_csv('../data/bank-note/train.csv', names=attributes)\r\n",
    "df_test = pd.read_csv('../data/bank-note/test.csv', names=attributes)\r\n",
    "\r\n",
    "df_train['genuine'].iloc[df_train['genuine'] == 0] = -1\r\n",
    "df_test['genuine'].iloc[df_test['genuine'] == 0] = -1\r\n",
    "\r\n",
    "X_train = df_train.loc[:, df_train.columns != 'genuine'].to_numpy(dtype='float64')\r\n",
    "y_train = df_train['genuine'].to_numpy(dtype='float64')\r\n",
    "\r\n",
    "X_test = df_test.loc[:, df_test.columns != 'genuine'].to_numpy(dtype='float64')\r\n",
    "y_test = df_test['genuine'].to_numpy(dtype='float64')"
   ],
   "outputs": [
    {
     "output_type": "stream",
     "name": "stderr",
     "text": [
      "C:\\Python39\\lib\\site-packages\\pandas\\core\\indexing.py:1732: SettingWithCopyWarning: \n",
      "A value is trying to be set on a copy of a slice from a DataFrame\n",
      "\n",
      "See the caveats in the documentation: https://pandas.pydata.org/pandas-docs/stable/user_guide/indexing.html#returning-a-view-versus-a-copy\n",
      "  self._setitem_single_block(indexer, value, name)\n"
     ]
    }
   ],
   "metadata": {}
  },
  {
   "cell_type": "code",
   "execution_count": 4,
   "source": [
    "C = [(100/873), (500/873), (700/873)]\r\n",
    "alpha = [0.1, 0.5, 1, 2, 5, 10]\r\n",
    "lr0 = [0.1, 0.5, 1, 2, 5, 10]"
   ],
   "outputs": [],
   "metadata": {}
  },
  {
   "cell_type": "code",
   "execution_count": 5,
   "source": [
    "classifier = SVMClassifier(df_train)"
   ],
   "outputs": [],
   "metadata": {}
  },
  {
   "cell_type": "code",
   "execution_count": null,
   "source": [
    "best_error = 100\r\n",
    "best_params = {}\r\n",
    "for a in alpha:\r\n",
    "    for l in lr0:\r\n",
    "        errors = []\r\n",
    "        for i in range(10):\r\n",
    "            classifier.train_primal_ssgd(C[0], l, a)\r\n",
    "            errors.append(test_accuracy(classifier, X_test, y_test))\r\n",
    "        mean_err = sum(errors) / len(errors)\r\n",
    "        if mean_err < best_error:\r\n",
    "            best_error = mean_err\r\n",
    "            best_params['alpha'] = a\r\n",
    "            best_params['lr0'] = l"
   ],
   "outputs": [],
   "metadata": {}
  },
  {
   "cell_type": "code",
   "execution_count": null,
   "source": [
    "best_error = 100\r\n",
    "\r\n",
    "for l in lr0:\r\n",
    "    errors = []\r\n",
    "    for i in range(10):\r\n",
    "        classifier.train_primal_ssgd(C[0], l, alpha=None)\r\n",
    "        errors.append(test_accuracy(classifier, X_test, y_test))\r\n",
    "    mean_err = sum(errors) / len(errors)\r\n",
    "    if mean_err < best_error:\r\n",
    "        best_error = mean_err\r\n",
    "        best_param = l"
   ],
   "outputs": [],
   "metadata": {}
  },
  {
   "cell_type": "code",
   "execution_count": 97,
   "source": [
    "best_params"
   ],
   "outputs": [
    {
     "output_type": "execute_result",
     "data": {
      "text/plain": [
       "{'alpha': 0.1, 'lr0': 10}"
      ]
     },
     "metadata": {},
     "execution_count": 97
    }
   ],
   "metadata": {}
  },
  {
   "cell_type": "code",
   "execution_count": 120,
   "source": [
    "best_param"
   ],
   "outputs": [
    {
     "output_type": "execute_result",
     "data": {
      "text/plain": [
       "0.1"
      ]
     },
     "metadata": {},
     "execution_count": 120
    }
   ],
   "metadata": {}
  },
  {
   "cell_type": "code",
   "execution_count": 170,
   "source": [
    "classifier.train_primal_ssgd(C[2], 0.1, alpha=None)\r\n",
    "classifier.w"
   ],
   "outputs": [
    {
     "output_type": "execute_result",
     "data": {
      "text/plain": [
       "array([-18.88804074,  -9.38329448,  -9.7998478 ,  -3.82816754,\n",
       "        21.06125465])"
      ]
     },
     "metadata": {},
     "execution_count": 170
    }
   ],
   "metadata": {}
  },
  {
   "cell_type": "code",
   "execution_count": 161,
   "source": [
    "errors = []\r\n",
    "for i in range(10):\r\n",
    "    errors.append(test_accuracy(classifier, X_train, y_train))\r\n",
    "avg = sum(errors) / len(errors)\r\n",
    "avg"
   ],
   "outputs": [
    {
     "output_type": "execute_result",
     "data": {
      "text/plain": [
       "0.03440366972477065"
      ]
     },
     "metadata": {},
     "execution_count": 161
    }
   ],
   "metadata": {}
  },
  {
   "cell_type": "code",
   "execution_count": 6,
   "source": [
    "classifier_0 = SVMClassifier(df_train)\r\n",
    "classifier_0.train_dual(C[0])\r\n",
    "\r\n",
    "classifier_1 = SVMClassifier(df_train)\r\n",
    "classifier_1.train_dual(C[1])\r\n",
    "\r\n",
    "classifier_2 = SVMClassifier(df_train)\r\n",
    "classifier_2.train_dual(C[2])"
   ],
   "outputs": [],
   "metadata": {}
  },
  {
   "cell_type": "code",
   "execution_count": 8,
   "source": [
    "classifier_2 = SVMClassifier(df_train)\r\n",
    "classifier_2.train_dual(C[2])"
   ],
   "outputs": [],
   "metadata": {}
  },
  {
   "cell_type": "code",
   "execution_count": null,
   "source": [
    "test_accuracy(classifier_2, X_test, y_test)"
   ],
   "outputs": [],
   "metadata": {}
  },
  {
   "cell_type": "code",
   "execution_count": 14,
   "source": [
    "print(classifier_2.w0)\r\n",
    "print(classifier_2.b)\r\n",
    "print(classifier_2.w)"
   ],
   "outputs": [
    {
     "output_type": "stream",
     "name": "stdout",
     "text": [
      "[-2.04269191 -1.28026842 -1.51356736 -0.24800877]\n",
      "5.03764354970973\n",
      "[-2.04269191 -1.28026842 -1.51356736 -0.24800877  5.03764355]\n"
     ]
    }
   ],
   "metadata": {}
  },
  {
   "cell_type": "code",
   "execution_count": 7,
   "source": [
    "gammas = [0.1, 0.5, 1, 5, 100]\r\n",
    "for gamma in gammas:\r\n",
    "    print(gamma)\r\n",
    "    print(test_accuracy(classifier_1, X_train, y_train, gamma))"
   ],
   "outputs": [
    {
     "output_type": "stream",
     "name": "stdout",
     "text": [
      "0.1\n",
      "0.5538990825688074\n",
      "0.5\n",
      "0.5538990825688074\n",
      "1\n",
      "0.5538990825688074\n",
      "5\n",
      "0.5538990825688074\n",
      "100\n",
      "0.5538990825688074\n"
     ]
    }
   ],
   "metadata": {}
  },
  {
   "cell_type": "code",
   "execution_count": 5,
   "source": [
    "gaussian_kernel = lambda xi, xj: np.exp(-1 * (np.sum(np.abs(xi - xj)**2,axis=-1) / gamma))\r\n",
    "res = gaussian_kernel(X_train, X_test[0])\r\n",
    "res.shape"
   ],
   "outputs": [
    {
     "output_type": "error",
     "ename": "NameError",
     "evalue": "name 'gamma' is not defined",
     "traceback": [
      "\u001b[1;31m---------------------------------------------------------------------------\u001b[0m",
      "\u001b[1;31mNameError\u001b[0m                                 Traceback (most recent call last)",
      "\u001b[1;32m~\\AppData\\Local\\Temp/ipykernel_39560/3292094882.py\u001b[0m in \u001b[0;36m<module>\u001b[1;34m\u001b[0m\n\u001b[0;32m      1\u001b[0m \u001b[0mgaussian_kernel\u001b[0m \u001b[1;33m=\u001b[0m \u001b[1;32mlambda\u001b[0m \u001b[0mxi\u001b[0m\u001b[1;33m,\u001b[0m \u001b[0mxj\u001b[0m\u001b[1;33m:\u001b[0m \u001b[0mnp\u001b[0m\u001b[1;33m.\u001b[0m\u001b[0mexp\u001b[0m\u001b[1;33m(\u001b[0m\u001b[1;33m-\u001b[0m\u001b[1;36m1\u001b[0m \u001b[1;33m*\u001b[0m \u001b[1;33m(\u001b[0m\u001b[0mnp\u001b[0m\u001b[1;33m.\u001b[0m\u001b[0msum\u001b[0m\u001b[1;33m(\u001b[0m\u001b[0mnp\u001b[0m\u001b[1;33m.\u001b[0m\u001b[0mabs\u001b[0m\u001b[1;33m(\u001b[0m\u001b[0mxi\u001b[0m \u001b[1;33m-\u001b[0m \u001b[0mxj\u001b[0m\u001b[1;33m)\u001b[0m\u001b[1;33m**\u001b[0m\u001b[1;36m2\u001b[0m\u001b[1;33m,\u001b[0m\u001b[0maxis\u001b[0m\u001b[1;33m=\u001b[0m\u001b[1;33m-\u001b[0m\u001b[1;36m1\u001b[0m\u001b[1;33m)\u001b[0m \u001b[1;33m/\u001b[0m \u001b[0mgamma\u001b[0m\u001b[1;33m)\u001b[0m\u001b[1;33m)\u001b[0m\u001b[1;33m\u001b[0m\u001b[1;33m\u001b[0m\u001b[0m\n\u001b[1;32m----> 2\u001b[1;33m \u001b[0mres\u001b[0m \u001b[1;33m=\u001b[0m \u001b[0mgaussian_kernel\u001b[0m\u001b[1;33m(\u001b[0m\u001b[0mX_train\u001b[0m\u001b[1;33m,\u001b[0m \u001b[0mX_test\u001b[0m\u001b[1;33m[\u001b[0m\u001b[1;36m0\u001b[0m\u001b[1;33m]\u001b[0m\u001b[1;33m)\u001b[0m\u001b[1;33m\u001b[0m\u001b[1;33m\u001b[0m\u001b[0m\n\u001b[0m\u001b[0;32m      3\u001b[0m \u001b[0mres\u001b[0m\u001b[1;33m.\u001b[0m\u001b[0mshape\u001b[0m\u001b[1;33m\u001b[0m\u001b[1;33m\u001b[0m\u001b[0m\n",
      "\u001b[1;32m~\\AppData\\Local\\Temp/ipykernel_39560/3292094882.py\u001b[0m in \u001b[0;36m<lambda>\u001b[1;34m(xi, xj)\u001b[0m\n\u001b[1;32m----> 1\u001b[1;33m \u001b[0mgaussian_kernel\u001b[0m \u001b[1;33m=\u001b[0m \u001b[1;32mlambda\u001b[0m \u001b[0mxi\u001b[0m\u001b[1;33m,\u001b[0m \u001b[0mxj\u001b[0m\u001b[1;33m:\u001b[0m \u001b[0mnp\u001b[0m\u001b[1;33m.\u001b[0m\u001b[0mexp\u001b[0m\u001b[1;33m(\u001b[0m\u001b[1;33m-\u001b[0m\u001b[1;36m1\u001b[0m \u001b[1;33m*\u001b[0m \u001b[1;33m(\u001b[0m\u001b[0mnp\u001b[0m\u001b[1;33m.\u001b[0m\u001b[0msum\u001b[0m\u001b[1;33m(\u001b[0m\u001b[0mnp\u001b[0m\u001b[1;33m.\u001b[0m\u001b[0mabs\u001b[0m\u001b[1;33m(\u001b[0m\u001b[0mxi\u001b[0m \u001b[1;33m-\u001b[0m \u001b[0mxj\u001b[0m\u001b[1;33m)\u001b[0m\u001b[1;33m**\u001b[0m\u001b[1;36m2\u001b[0m\u001b[1;33m,\u001b[0m\u001b[0maxis\u001b[0m\u001b[1;33m=\u001b[0m\u001b[1;33m-\u001b[0m\u001b[1;36m1\u001b[0m\u001b[1;33m)\u001b[0m \u001b[1;33m/\u001b[0m \u001b[0mgamma\u001b[0m\u001b[1;33m)\u001b[0m\u001b[1;33m)\u001b[0m\u001b[1;33m\u001b[0m\u001b[1;33m\u001b[0m\u001b[0m\n\u001b[0m\u001b[0;32m      2\u001b[0m \u001b[0mres\u001b[0m \u001b[1;33m=\u001b[0m \u001b[0mgaussian_kernel\u001b[0m\u001b[1;33m(\u001b[0m\u001b[0mX_train\u001b[0m\u001b[1;33m,\u001b[0m \u001b[0mX_test\u001b[0m\u001b[1;33m[\u001b[0m\u001b[1;36m0\u001b[0m\u001b[1;33m]\u001b[0m\u001b[1;33m)\u001b[0m\u001b[1;33m\u001b[0m\u001b[1;33m\u001b[0m\u001b[0m\n\u001b[0;32m      3\u001b[0m \u001b[0mres\u001b[0m\u001b[1;33m.\u001b[0m\u001b[0mshape\u001b[0m\u001b[1;33m\u001b[0m\u001b[1;33m\u001b[0m\u001b[0m\n",
      "\u001b[1;31mNameError\u001b[0m: name 'gamma' is not defined"
     ]
    }
   ],
   "metadata": {}
  },
  {
   "cell_type": "code",
   "execution_count": 5,
   "source": [
    "classifier_test = SVMClassifier(df_train)\r\n",
    "classifier_test.train_dual(C[0])"
   ],
   "outputs": [
    {
     "output_type": "stream",
     "name": "stderr",
     "text": [
      "C:\\Python39\\lib\\site-packages\\scipy\\optimize\\optimize.py:282: RuntimeWarning: Values in x were outside bounds during a minimize step, clipping to bounds\n",
      "  warnings.warn(\"Values in x were outside bounds during a \"\n"
     ]
    }
   ],
   "metadata": {}
  },
  {
   "cell_type": "code",
   "execution_count": 6,
   "source": [
    "test_accuracy(classifier_test, X_test, y_test)"
   ],
   "outputs": [
    {
     "output_type": "execute_result",
     "data": {
      "text/plain": [
       "0.03"
      ]
     },
     "metadata": {},
     "execution_count": 6
    }
   ],
   "metadata": {}
  },
  {
   "cell_type": "code",
   "execution_count": 5,
   "source": [
    "classifier_kernel = SVMClassifier(df_train)\r\n",
    "classifier_kernel.train_dual(C[0], 0.5)"
   ],
   "outputs": [],
   "metadata": {}
  },
  {
   "cell_type": "code",
   "execution_count": 7,
   "source": [
    "classifier_kernel.predict(X_test[0])"
   ],
   "outputs": [
    {
     "output_type": "stream",
     "name": "stdout",
     "text": [
      "(872,)\n",
      "(872,)\n",
      "(872, 4)\n",
      "()\n"
     ]
    },
    {
     "output_type": "execute_result",
     "data": {
      "text/plain": [
       "0.0"
      ]
     },
     "metadata": {},
     "execution_count": 7
    }
   ],
   "metadata": {}
  },
  {
   "cell_type": "code",
   "execution_count": 11,
   "source": [
    "gammas = [0.1, 0.5, 1, 5, 100]"
   ],
   "outputs": [],
   "metadata": {}
  },
  {
   "cell_type": "code",
   "execution_count": 20,
   "source": [
    "classifier_kernel1 = SVMClassifier(df_train)\r\n",
    "classifier_kernel1.train_dual(C[1], 0.01)\r\n",
    "truth_arr1 = classifier_kernel1.alpha > 0.001\r\n",
    "\r\n",
    "classifier_kernel2 = SVMClassifier(df_train)\r\n",
    "classifier_kernel2.train_dual(C[1], 0.1)\r\n",
    "truth_arr2 = classifier_kernel2.alpha > 0.001\r\n",
    "\r\n",
    "classifier_kernel3 = SVMClassifier(df_train)\r\n",
    "classifier_kernel3.train_dual(C[1], 0.5)\r\n",
    "truth_arr3 = classifier_kernel3.alpha > 0.001\r\n",
    "\r\n",
    "classifier_kernel4 = SVMClassifier(df_train)\r\n",
    "classifier_kernel4.train_dual(C[1], 1)\r\n",
    "truth_arr4 = classifier_kernel4.alpha > 0.001\r\n",
    "\r\n",
    "classifier_kernel5 = SVMClassifier(df_train)\r\n",
    "classifier_kernel5.train_dual(C[1], 5)\r\n",
    "truth_arr5 = classifier_kernel5.alpha > 0.001\r\n",
    "\r\n",
    "classifier_kernel6 = SVMClassifier(df_train)\r\n",
    "classifier_kernel6.train_dual(C[1], 100)\r\n",
    "truth_arr6 = classifier_kernel6.alpha > 0.001"
   ],
   "outputs": [],
   "metadata": {}
  },
  {
   "cell_type": "code",
   "execution_count": 25,
   "source": [
    "def find_same_supports(arr1, arr2):\r\n",
    "    ctr = 0\r\n",
    "    for i, val in enumerate(arr1):\r\n",
    "        if val and arr2[i]:\r\n",
    "            ctr += 1\r\n",
    "    return ctr"
   ],
   "outputs": [],
   "metadata": {}
  },
  {
   "cell_type": "code",
   "execution_count": 24,
   "source": [
    "truth_arr5.shape"
   ],
   "outputs": [
    {
     "output_type": "execute_result",
     "data": {
      "text/plain": [
       "(872,)"
      ]
     },
     "metadata": {},
     "execution_count": 24
    }
   ],
   "metadata": {}
  },
  {
   "cell_type": "code",
   "execution_count": 28,
   "source": [
    "print('Support vectors shared when gamma = 0.01 and when gamma = 0.1: %d' % find_same_supports(truth_arr1, truth_arr2))\r\n",
    "print('Support vectors shared when gamma = 0.1 and when gamma = 0.5: %d' % find_same_supports(truth_arr2, truth_arr3))\r\n",
    "print('Support vectors shared when gamma = 0.5 and when gamma = 1: %d' % find_same_supports(truth_arr3, truth_arr4))\r\n",
    "print('Support vectors shared when gamma = 1 and when gamma = 5: %d' % find_same_supports(truth_arr4, truth_arr5))\r\n",
    "print('Support vectors shared when gamma = 5 and when gamma = 100: %d' % find_same_supports(truth_arr5, truth_arr6))"
   ],
   "outputs": [
    {
     "output_type": "stream",
     "name": "stdout",
     "text": [
      "Support vectors shared when gamma = 0.01 and when gamma = 0.1: 869\n",
      "Support vectors shared when gamma = 0.1 and when gamma = 0.5: 730\n",
      "Support vectors shared when gamma = 0.5 and when gamma = 1: 554\n",
      "Support vectors shared when gamma = 1 and when gamma = 5: 198\n",
      "Support vectors shared when gamma = 5 and when gamma = 100: 73\n"
     ]
    }
   ],
   "metadata": {}
  },
  {
   "cell_type": "code",
   "execution_count": 19,
   "source": [
    "for c in C:\r\n",
    "    for gamma in gammas:\r\n",
    "        classifier_kernel = SVMClassifier(df_train)\r\n",
    "        classifier_kernel.train_dual(c, gamma)\r\n",
    "        test_err = test_accuracy(classifier_kernel, X_test, y_test)\r\n",
    "        train_err = test_accuracy(classifier_kernel, X_train, y_train)\r\n",
    "        print('Training error where C = %f and gammma = %f : %f' % (c, gamma, train_err))   \r\n",
    "        print('Testing error where C = %f and gammma = %f : %f' % (c, gamma, test_err))\r\n",
    "        print('Number of support vectors %d' % (len(classifier_kernel.nonzero_alphas)))\r\n"
   ],
   "outputs": [
    {
     "output_type": "stream",
     "name": "stdout",
     "text": [
      "Training error where C = 0.114548 and gammma = 0.100000 : 0.000000\n",
      "Testing error where C = 0.114548 and gammma = 0.100000 : 0.002000\n",
      "Number of support vectors 869\n",
      "Training error where C = 0.114548 and gammma = 0.500000 : 0.000000\n",
      "Testing error where C = 0.114548 and gammma = 0.500000 : 0.002000\n",
      "Number of support vectors 825\n",
      "Training error where C = 0.114548 and gammma = 1.000000 : 0.000000\n",
      "Testing error where C = 0.114548 and gammma = 1.000000 : 0.002000\n",
      "Number of support vectors 804\n"
     ]
    },
    {
     "output_type": "stream",
     "name": "stderr",
     "text": [
      "C:\\Python39\\lib\\site-packages\\scipy\\optimize\\optimize.py:282: RuntimeWarning: Values in x were outside bounds during a minimize step, clipping to bounds\n",
      "  warnings.warn(\"Values in x were outside bounds during a \"\n"
     ]
    },
    {
     "output_type": "stream",
     "name": "stdout",
     "text": [
      "Training error where C = 0.114548 and gammma = 5.000000 : 0.008028\n",
      "Testing error where C = 0.114548 and gammma = 5.000000 : 0.006000\n",
      "Number of support vectors 442\n",
      "Training error where C = 0.114548 and gammma = 100.000000 : 0.003440\n",
      "Testing error where C = 0.114548 and gammma = 100.000000 : 0.004000\n",
      "Number of support vectors 290\n",
      "Training error where C = 0.572738 and gammma = 0.100000 : 0.000000\n",
      "Testing error where C = 0.572738 and gammma = 0.100000 : 0.002000\n",
      "Number of support vectors 869\n",
      "Training error where C = 0.572738 and gammma = 0.500000 : 0.000000\n",
      "Testing error where C = 0.572738 and gammma = 0.500000 : 0.002000\n",
      "Number of support vectors 730\n",
      "Training error where C = 0.572738 and gammma = 1.000000 : 0.000000\n",
      "Testing error where C = 0.572738 and gammma = 1.000000 : 0.002000\n",
      "Number of support vectors 556\n",
      "Training error where C = 0.572738 and gammma = 5.000000 : 0.000000\n",
      "Testing error where C = 0.572738 and gammma = 5.000000 : 0.002000\n",
      "Number of support vectors 208\n",
      "Training error where C = 0.572738 and gammma = 100.000000 : 0.000000\n",
      "Testing error where C = 0.572738 and gammma = 100.000000 : 0.000000\n",
      "Number of support vectors 116\n",
      "Training error where C = 0.801833 and gammma = 0.100000 : 0.000000\n",
      "Testing error where C = 0.801833 and gammma = 0.100000 : 0.002000\n",
      "Number of support vectors 868\n",
      "Training error where C = 0.801833 and gammma = 0.500000 : 0.000000\n",
      "Testing error where C = 0.801833 and gammma = 0.500000 : 0.002000\n",
      "Number of support vectors 693\n",
      "Training error where C = 0.801833 and gammma = 1.000000 : 0.000000\n",
      "Testing error where C = 0.801833 and gammma = 1.000000 : 0.002000\n",
      "Number of support vectors 528\n",
      "Training error where C = 0.801833 and gammma = 5.000000 : 0.000000\n",
      "Testing error where C = 0.801833 and gammma = 5.000000 : 0.002000\n",
      "Number of support vectors 193\n",
      "Training error where C = 0.801833 and gammma = 100.000000 : 0.000000\n",
      "Testing error where C = 0.801833 and gammma = 100.000000 : 0.000000\n",
      "Number of support vectors 99\n"
     ]
    }
   ],
   "metadata": {}
  },
  {
   "cell_type": "code",
   "execution_count": 9,
   "source": [
    "test_accuracy(classifier_kernel, X_test, y_test)"
   ],
   "outputs": [
    {
     "output_type": "execute_result",
     "data": {
      "text/plain": [
       "0.002"
      ]
     },
     "metadata": {},
     "execution_count": 9
    }
   ],
   "metadata": {}
  },
  {
   "cell_type": "code",
   "execution_count": 17,
   "source": [
    "mask = classifier_kernel.alpha > 0.001\r\n",
    "len(classifier_kernel.alpha[mask])"
   ],
   "outputs": [
    {
     "output_type": "execute_result",
     "data": {
      "text/plain": [
       "825"
      ]
     },
     "metadata": {},
     "execution_count": 17
    }
   ],
   "metadata": {}
  },
  {
   "cell_type": "code",
   "execution_count": 21,
   "source": [
    "def gaussian_kernel(xi, xj, gamma):\r\n",
    "        return np.exp(-np.linalg.norm(xi-xj)**2 / gamma)"
   ],
   "outputs": [],
   "metadata": {}
  },
  {
   "cell_type": "code",
   "execution_count": 34,
   "source": [
    "sum([gaussian_kernel(xi, X_test[2], 0.5) for xi in X_train]) "
   ],
   "outputs": [
    {
     "output_type": "execute_result",
     "data": {
      "text/plain": [
       "0.0033042888358120522"
      ]
     },
     "metadata": {},
     "execution_count": 34
    }
   ],
   "metadata": {}
  },
  {
   "cell_type": "code",
   "execution_count": 12,
   "source": [
    "def gaussian_kernel(xi, xj, gamma):\r\n",
    "    return np.exp(-1 * (np.sum(np.abs(xi - xj)**2,axis=-1) / gamma))"
   ],
   "outputs": [],
   "metadata": {}
  },
  {
   "cell_type": "code",
   "execution_count": 17,
   "source": [
    "def gaussian_kernel_2(xi, xj, gamma):\r\n",
    "    return np.exp(-1 * (np.linalg.norm(xi-xj)**2) / gamma)"
   ],
   "outputs": [],
   "metadata": {}
  },
  {
   "cell_type": "code",
   "execution_count": 10,
   "source": [
    "xi = np.asarray([1,2,3])\r\n",
    "xj = np.asarray([3,2,1])\r\n",
    "xi @ xj"
   ],
   "outputs": [
    {
     "output_type": "execute_result",
     "data": {
      "text/plain": [
       "10"
      ]
     },
     "metadata": {},
     "execution_count": 10
    }
   ],
   "metadata": {}
  },
  {
   "cell_type": "code",
   "execution_count": 19,
   "source": [
    "gaussian_kernel_2(xi, xj, 5)"
   ],
   "outputs": [
    {
     "output_type": "execute_result",
     "data": {
      "text/plain": [
       "0.20189651799465536"
      ]
     },
     "metadata": {},
     "execution_count": 19
    }
   ],
   "metadata": {}
  }
 ],
 "metadata": {
  "orig_nbformat": 4,
  "language_info": {
   "name": "python",
   "version": "3.9.6",
   "mimetype": "text/x-python",
   "codemirror_mode": {
    "name": "ipython",
    "version": 3
   },
   "pygments_lexer": "ipython3",
   "nbconvert_exporter": "python",
   "file_extension": ".py"
  },
  "kernelspec": {
   "name": "python3",
   "display_name": "Python 3.9.6 64-bit"
  },
  "interpreter": {
   "hash": "63fd5069d213b44bf678585dea6b12cceca9941eaf7f819626cde1f2670de90d"
  }
 },
 "nbformat": 4,
 "nbformat_minor": 2
}