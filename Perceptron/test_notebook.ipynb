{
 "cells": [
  {
   "cell_type": "code",
   "execution_count": 6,
   "source": [
    "import numpy as np\r\n",
    "import pandas as pd\r\n",
    "from Perceptron import Perceptron\r\n"
   ],
   "outputs": [],
   "metadata": {}
  },
  {
   "cell_type": "code",
   "execution_count": 7,
   "source": [
    "def test_accuracy(model, X_test, y_test):\r\n",
    "    i = 0\r\n",
    "    for idx, xi in enumerate(X_test):\r\n",
    "        if model.predict(xi) != y_test[idx]:\r\n",
    "            i+=1\r\n",
    "\r\n",
    "    return i / len(y_test)"
   ],
   "outputs": [],
   "metadata": {}
  },
  {
   "cell_type": "code",
   "execution_count": 8,
   "source": [
    "attributes = ['variance','skewness','curtosis','entropy','genuine']\r\n",
    "\r\n",
    "df_train = pd.read_csv('../data/bank-note/train.csv', names=attributes)\r\n",
    "df_test = pd.read_csv('../data/bank-note/test.csv', names=attributes)\r\n",
    "\r\n",
    "df_train['genuine'].iloc[df_train['genuine'] == 0] = -1\r\n",
    "df_test['genuine'].iloc[df_test['genuine'] == 0] = -1"
   ],
   "outputs": [],
   "metadata": {}
  },
  {
   "cell_type": "code",
   "execution_count": 9,
   "source": [
    "df_test.shape"
   ],
   "outputs": [
    {
     "output_type": "execute_result",
     "data": {
      "text/plain": [
       "(500, 5)"
      ]
     },
     "metadata": {},
     "execution_count": 9
    }
   ],
   "metadata": {}
  },
  {
   "cell_type": "code",
   "execution_count": 10,
   "source": [
    "X_train = df_train.loc[:, df_train.columns != 'genuine'].to_numpy(dtype='float64')\r\n",
    "y_train = df_train['genuine'].to_numpy(dtype='float64')\r\n",
    "\r\n",
    "X_test = df_test.loc[:, df_test.columns != 'genuine'].to_numpy(dtype='float64')\r\n",
    "y_test = df_test['genuine'].to_numpy(dtype='float64')"
   ],
   "outputs": [],
   "metadata": {}
  },
  {
   "cell_type": "code",
   "execution_count": 11,
   "source": [
    "perceptron_standard = Perceptron(X_train, y_train)\r\n",
    "perceptron_standard.train_standard(100)"
   ],
   "outputs": [],
   "metadata": {}
  },
  {
   "cell_type": "code",
   "execution_count": 12,
   "source": [
    "perceptron_standard.w"
   ],
   "outputs": [
    {
     "output_type": "execute_result",
     "data": {
      "text/plain": [
       "array([-59.08707378, -36.1626673 , -44.55519523,   2.16733971,\n",
       "        49.60681493])"
      ]
     },
     "metadata": {},
     "execution_count": 12
    }
   ],
   "metadata": {}
  },
  {
   "cell_type": "code",
   "execution_count": 8,
   "source": [
    "perceptron_standard.w"
   ],
   "outputs": [
    {
     "output_type": "execute_result",
     "data": {
      "text/plain": [
       "array([-61.086591, -42.70582 , -40.30786 ,  -3.146269,  53.      ])"
      ]
     },
     "metadata": {},
     "execution_count": 8
    }
   ],
   "metadata": {}
  },
  {
   "cell_type": "code",
   "execution_count": 33,
   "source": [
    "error_standard = test_accuracy(perceptron_standard, X_test, y_test)\r\n",
    "error_standard"
   ],
   "outputs": [
    {
     "output_type": "execute_result",
     "data": {
      "text/plain": [
       "0.02"
      ]
     },
     "metadata": {},
     "execution_count": 33
    }
   ],
   "metadata": {}
  },
  {
   "cell_type": "code",
   "execution_count": 34,
   "source": [
    "perceptron_standard.w"
   ],
   "outputs": [
    {
     "output_type": "execute_result",
     "data": {
      "text/plain": [
       "array([-61.086591, -42.70582 , -40.30786 ,  -3.146269,  53.      ])"
      ]
     },
     "metadata": {},
     "execution_count": 34
    }
   ],
   "metadata": {}
  },
  {
   "cell_type": "code",
   "execution_count": 35,
   "source": [
    "perceptron_voted = Perceptron(X_train, y_train)\r\n",
    "perceptron_voted.train_voted(1)"
   ],
   "outputs": [],
   "metadata": {}
  },
  {
   "cell_type": "code",
   "execution_count": 36,
   "source": [
    "error_standard = test_accuracy(perceptron_voted, X_test, y_test)\r\n",
    "error_standard"
   ],
   "outputs": [
    {
     "output_type": "execute_result",
     "data": {
      "text/plain": [
       "0.014"
      ]
     },
     "metadata": {},
     "execution_count": 36
    }
   ],
   "metadata": {}
  },
  {
   "cell_type": "code",
   "execution_count": 37,
   "source": [
    "len(perceptron_voted.w_arr)"
   ],
   "outputs": [
    {
     "output_type": "execute_result",
     "data": {
      "text/plain": [
       "259"
      ]
     },
     "metadata": {},
     "execution_count": 37
    }
   ],
   "metadata": {}
  },
  {
   "cell_type": "code",
   "execution_count": 38,
   "source": [
    "perceptron_voted.w_arr[-5:]"
   ],
   "outputs": [
    {
     "output_type": "execute_result",
     "data": {
      "text/plain": [
       "[(array([-67.451391, -33.35892 , -35.21686 , -13.689772,  54.      ]), 31),\n",
       " (array([-65.592991, -41.24492 , -33.55256 , -11.851372,  53.      ]), 82),\n",
       " (array([-65.922191, -36.78972 , -38.12436 , -10.862572,  52.      ]), 1),\n",
       " (array([-63.891191, -34.93772 , -41.13646 , -10.859569,  53.      ]), 38),\n",
       " (array([-61.873491, -33.13952 , -44.09456 , -10.649669,  54.      ]), 55)]"
      ]
     },
     "metadata": {},
     "execution_count": 38
    }
   ],
   "metadata": {}
  },
  {
   "cell_type": "code",
   "execution_count": 39,
   "source": [
    "perceptron_avg = Perceptron(X_train, y_train)\r\n",
    "perceptron_avg.train_average(1)"
   ],
   "outputs": [],
   "metadata": {}
  },
  {
   "cell_type": "code",
   "execution_count": 40,
   "source": [
    "error_standard = test_accuracy(perceptron_avg, X_test, y_test)\r\n",
    "error_standard"
   ],
   "outputs": [
    {
     "output_type": "execute_result",
     "data": {
      "text/plain": [
       "0.014"
      ]
     },
     "metadata": {},
     "execution_count": 40
    }
   ],
   "metadata": {}
  },
  {
   "cell_type": "code",
   "execution_count": 44,
   "source": [
    "perceptron_avg.a / perceptron_voted.w_arr[-1][0]"
   ],
   "outputs": [
    {
     "output_type": "execute_result",
     "data": {
      "text/plain": [
       "array([6567.56785941, 7648.49268819, 5961.34019072, 7321.87111402,\n",
       "       5875.03703704])"
      ]
     },
     "metadata": {},
     "execution_count": 44
    }
   ],
   "metadata": {}
  },
  {
   "cell_type": "code",
   "execution_count": 42,
   "source": [
    "perceptron_standard.w"
   ],
   "outputs": [
    {
     "output_type": "execute_result",
     "data": {
      "text/plain": [
       "array([-61.086591, -42.70582 , -40.30786 ,  -3.146269,  53.      ])"
      ]
     },
     "metadata": {},
     "execution_count": 42
    }
   ],
   "metadata": {}
  },
  {
   "cell_type": "markdown",
   "source": [],
   "metadata": {}
  }
 ],
 "metadata": {
  "orig_nbformat": 4,
  "language_info": {
   "name": "python",
   "version": "3.9.6",
   "mimetype": "text/x-python",
   "codemirror_mode": {
    "name": "ipython",
    "version": 3
   },
   "pygments_lexer": "ipython3",
   "nbconvert_exporter": "python",
   "file_extension": ".py"
  },
  "kernelspec": {
   "name": "python3",
   "display_name": "Python 3.9.6 64-bit"
  },
  "interpreter": {
   "hash": "63fd5069d213b44bf678585dea6b12cceca9941eaf7f819626cde1f2670de90d"
  }
 },
 "nbformat": 4,
 "nbformat_minor": 2
}