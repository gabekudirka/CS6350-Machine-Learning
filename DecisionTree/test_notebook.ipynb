{
 "cells": [
  {
   "cell_type": "code",
   "execution_count": 1,
   "source": [
    "import numpy as np\r\n",
    "import pandas as pd\r\n",
    "pd.options.mode.chained_assignment = None\r\n",
    "import math\r\n",
    "from decision_tree import DecisionTree\r\n",
    "from sklearn import tree"
   ],
   "outputs": [],
   "metadata": {}
  },
  {
   "cell_type": "code",
   "execution_count": 39,
   "source": [
    "def test_tree_accuracy(decision_tree, test_data):\r\n",
    "    preds = test_data.apply(lambda row : decision_tree.predict(row), axis=1)\r\n",
    "    diff = preds == test_data['label']\r\n",
    "    if (diff == True).all():\r\n",
    "        return 0\r\n",
    "    else:\r\n",
    "        error_count = diff.value_counts()[False]\r\n",
    "        return error_count / len(test_data)"
   ],
   "outputs": [],
   "metadata": {}
  },
  {
   "cell_type": "code",
   "execution_count": 4,
   "source": [
    "def process_data(df, attributes, replace_unknown=False):\r\n",
    "    #If specified, replace all 'uknown' values with column majority\r\n",
    "    if replace_unknown:\r\n",
    "        for attribute in attributes:\r\n",
    "            if df[attribute].dtype.kind not in 'iufc':\r\n",
    "                most_common = 'unknown'\r\n",
    "                counts = df[attribute].value_counts()\r\n",
    "                if counts[[0]].index[0] == 'unknown' and len(counts) > 1:\r\n",
    "                    most_common = counts[[1]].index[0]\r\n",
    "                else:\r\n",
    "                    most_common = counts[[0]].index[0]\r\n",
    "                df[attribute][df[attribute] == 'unknown'] = most_common\r\n",
    "    \r\n",
    "    #Replace numerical columns with boolean values based on median threshold\r\n",
    "    for attribute in attributes:\r\n",
    "        if df[attribute].dtype.kind in 'iufc':\r\n",
    "            median = df[attribute].median()\r\n",
    "            binary_col = df[attribute] > median\r\n",
    "            df[attribute] = binary_col\r\n",
    "            \r\n",
    "    return df"
   ],
   "outputs": [],
   "metadata": {}
  },
  {
   "cell_type": "code",
   "execution_count": 40,
   "source": [
    "from decision_tree import DecisionTree\r\n",
    "\r\n",
    "with open ( '../data/cars/data-desc.txt' , 'r' ) as f:\r\n",
    "    desc_lines = f.readlines()\r\n",
    "\r\n",
    "attributes = desc_lines[-1].strip().split(',')\r\n",
    "attributes = attributes[:-1]\r\n",
    "\r\n",
    "df_train = pd.read_csv('../data/cars/train.csv', names=attributes + ['label'])\r\n",
    "df_test = pd.read_csv('../data/cars/test.csv', names=attributes + ['label'])"
   ],
   "outputs": [],
   "metadata": {}
  },
  {
   "cell_type": "code",
   "execution_count": 45,
   "source": [
    "def test_decision_tree(df_train, df_test, attributes, max_max_depth):\r\n",
    "    purity_functions = ['entropy', 'gini', 'me']\r\n",
    "    for max_depth in range(1, max_max_depth+1):\r\n",
    "        for purity_function in purity_functions:\r\n",
    "            tree = DecisionTree(df_train, attributes).build_tree(purity_type=purity_function, max_depth=max_depth)\r\n",
    "            training_error = test_tree_accuracy(tree, df_train)\r\n",
    "            testing_error = test_tree_accuracy(tree, df_test)\r\n",
    "            print('Max Depth: %d | Purity Function: %s | Test Set: Training data | Error: %.3f' % (max_depth, purity_function, training_error))\r\n",
    "            print('Max Depth: %d | Purity Function: %s | Test Set: Testing data | Error: %.3f' % (max_depth, purity_function, testing_error))"
   ],
   "outputs": [],
   "metadata": {}
  },
  {
   "cell_type": "code",
   "execution_count": 25,
   "source": [
    "decision_tree = DecisionTree(df_train, attributes).build_tree(purity_type='entropy', max_depth=6)\r\n",
    "decision_tree"
   ],
   "outputs": [
    {
     "output_type": "execute_result",
     "data": {
      "text/plain": [
       "<decision_tree.DecisionTree at 0x1dd306f11f0>"
      ]
     },
     "metadata": {},
     "execution_count": 25
    }
   ],
   "metadata": {}
  },
  {
   "cell_type": "code",
   "execution_count": 26,
   "source": [
    "test_tree_accuracy(decision_tree, df_test)"
   ],
   "outputs": [
    {
     "output_type": "execute_result",
     "data": {
      "text/plain": [
       "0.08791208791208792"
      ]
     },
     "metadata": {},
     "execution_count": 26
    }
   ],
   "metadata": {}
  },
  {
   "cell_type": "code",
   "execution_count": 46,
   "source": [
    "test_decision_tree(df_train, df_test, attributes, 6)"
   ],
   "outputs": [
    {
     "output_type": "stream",
     "name": "stdout",
     "text": [
      "Max Depth: 1 | Purity Function: entropy | Test Set: Training data | Error: 0.302\n",
      "Max Depth: 1 | Purity Function: entropy | Test Set: Testing data | Error: 0.297\n",
      "Max Depth: 1 | Purity Function: gini | Test Set: Training data | Error: 0.302\n",
      "Max Depth: 1 | Purity Function: gini | Test Set: Testing data | Error: 0.297\n",
      "Max Depth: 1 | Purity Function: me | Test Set: Training data | Error: 0.302\n",
      "Max Depth: 1 | Purity Function: me | Test Set: Testing data | Error: 0.297\n",
      "Max Depth: 2 | Purity Function: entropy | Test Set: Training data | Error: 0.222\n",
      "Max Depth: 2 | Purity Function: entropy | Test Set: Testing data | Error: 0.223\n",
      "Max Depth: 2 | Purity Function: gini | Test Set: Training data | Error: 0.222\n",
      "Max Depth: 2 | Purity Function: gini | Test Set: Testing data | Error: 0.223\n",
      "Max Depth: 2 | Purity Function: me | Test Set: Training data | Error: 0.292\n",
      "Max Depth: 2 | Purity Function: me | Test Set: Testing data | Error: 0.313\n",
      "Max Depth: 3 | Purity Function: entropy | Test Set: Training data | Error: 0.181\n",
      "Max Depth: 3 | Purity Function: entropy | Test Set: Testing data | Error: 0.196\n",
      "Max Depth: 3 | Purity Function: gini | Test Set: Training data | Error: 0.176\n",
      "Max Depth: 3 | Purity Function: gini | Test Set: Testing data | Error: 0.184\n",
      "Max Depth: 3 | Purity Function: me | Test Set: Training data | Error: 0.180\n",
      "Max Depth: 3 | Purity Function: me | Test Set: Testing data | Error: 0.192\n",
      "Max Depth: 4 | Purity Function: entropy | Test Set: Training data | Error: 0.082\n",
      "Max Depth: 4 | Purity Function: entropy | Test Set: Testing data | Error: 0.147\n",
      "Max Depth: 4 | Purity Function: gini | Test Set: Training data | Error: 0.089\n",
      "Max Depth: 4 | Purity Function: gini | Test Set: Testing data | Error: 0.133\n",
      "Max Depth: 4 | Purity Function: me | Test Set: Training data | Error: 0.086\n",
      "Max Depth: 4 | Purity Function: me | Test Set: Testing data | Error: 0.147\n",
      "Max Depth: 5 | Purity Function: entropy | Test Set: Training data | Error: 0.027\n",
      "Max Depth: 5 | Purity Function: entropy | Test Set: Testing data | Error: 0.088\n",
      "Max Depth: 5 | Purity Function: gini | Test Set: Training data | Error: 0.027\n",
      "Max Depth: 5 | Purity Function: gini | Test Set: Testing data | Error: 0.088\n",
      "Max Depth: 5 | Purity Function: me | Test Set: Training data | Error: 0.029\n",
      "Max Depth: 5 | Purity Function: me | Test Set: Testing data | Error: 0.098\n",
      "Max Depth: 6 | Purity Function: entropy | Test Set: Training data | Error: 0.000\n",
      "Max Depth: 6 | Purity Function: entropy | Test Set: Testing data | Error: 0.088\n",
      "Max Depth: 6 | Purity Function: gini | Test Set: Training data | Error: 0.000\n",
      "Max Depth: 6 | Purity Function: gini | Test Set: Testing data | Error: 0.088\n",
      "Max Depth: 6 | Purity Function: me | Test Set: Training data | Error: 0.000\n",
      "Max Depth: 6 | Purity Function: me | Test Set: Testing data | Error: 0.098\n"
     ]
    }
   ],
   "metadata": {}
  },
  {
   "cell_type": "code",
   "execution_count": 53,
   "source": [
    "for col in df_train.columns:\r\n",
    "    df_train[col] = df_train[col].astype('category')\r\n",
    "\r\n",
    "cat_columns = df_train.select_dtypes(['category']).columns\r\n",
    "df_train[cat_columns] = df_train[cat_columns].apply(lambda x: x.cat.codes)\r\n",
    "\r\n",
    "for col in df_test.columns:\r\n",
    "    df_test[col] = df_test[col].astype('category')\r\n",
    "\r\n",
    "cat_columns = df_test.select_dtypes(['category']).columns\r\n",
    "df_test[cat_columns] = df_test[cat_columns].apply(lambda x: x.cat.codes)"
   ],
   "outputs": [],
   "metadata": {}
  },
  {
   "cell_type": "code",
   "execution_count": 55,
   "source": [
    "X = df_train.loc[:, df_train.columns != 'label']\r\n",
    "y = df_train['label']\r\n",
    "\r\n",
    "clf = tree.DecisionTreeClassifier().fit(X, y)\r\n",
    "preds = clf.predict(df_train.loc[:, df_train.columns != 'label'])"
   ],
   "outputs": [],
   "metadata": {}
  },
  {
   "cell_type": "code",
   "execution_count": 57,
   "source": [
    "diff = pd.Series(preds) == df_train['label']\r\n",
    "if (diff == True).all():\r\n",
    "    print(1.0)\r\n",
    "else:\r\n",
    "    error_count = diff.value_counts()[False]\r\n",
    "    print( 1 - (error_count / len(preds)))"
   ],
   "outputs": [
    {
     "output_type": "stream",
     "name": "stdout",
     "text": [
      "1.0\n"
     ]
    }
   ],
   "metadata": {}
  },
  {
   "cell_type": "code",
   "execution_count": 55,
   "source": [
    "attributes = ['age', 'job', 'marital', 'education', 'default', 'balance', 'housing', \r\n",
    "'loan', 'contact', 'day', 'month', 'duration', 'campaign', 'pdays', 'previous', 'poutcome']\r\n",
    "\r\n",
    "df_train = pd.read_csv('../data/bank/train.csv', names=attributes + ['label'])\r\n",
    "df_test = pd.read_csv('../data/bank/test.csv', names=attributes + ['label'])"
   ],
   "outputs": [],
   "metadata": {}
  },
  {
   "cell_type": "code",
   "execution_count": 56,
   "source": [
    "df_train = process_data(df_train, attributes, replace_unknown=True)\r\n",
    "df_test = process_data(df_test, attributes, replace_unknown=True)"
   ],
   "outputs": [],
   "metadata": {}
  },
  {
   "cell_type": "code",
   "execution_count": 52,
   "source": [
    "test_decision_tree(df_train, df_test, attributes, 16)"
   ],
   "outputs": [
    {
     "output_type": "stream",
     "name": "stdout",
     "text": [
      "Max Depth: 1 | Purity Function: entropy | Test Set: Training data | Error: 0.119\n",
      "Max Depth: 1 | Purity Function: entropy | Test Set: Testing data | Error: 0.125\n",
      "Max Depth: 1 | Purity Function: gini | Test Set: Training data | Error: 0.109\n",
      "Max Depth: 1 | Purity Function: gini | Test Set: Testing data | Error: 0.117\n",
      "Max Depth: 1 | Purity Function: me | Test Set: Training data | Error: 0.109\n",
      "Max Depth: 1 | Purity Function: me | Test Set: Testing data | Error: 0.117\n",
      "Max Depth: 2 | Purity Function: entropy | Test Set: Training data | Error: 0.106\n",
      "Max Depth: 2 | Purity Function: entropy | Test Set: Testing data | Error: 0.111\n",
      "Max Depth: 2 | Purity Function: gini | Test Set: Training data | Error: 0.104\n",
      "Max Depth: 2 | Purity Function: gini | Test Set: Testing data | Error: 0.109\n",
      "Max Depth: 2 | Purity Function: me | Test Set: Training data | Error: 0.104\n",
      "Max Depth: 2 | Purity Function: me | Test Set: Testing data | Error: 0.109\n",
      "Max Depth: 3 | Purity Function: entropy | Test Set: Training data | Error: 0.101\n",
      "Max Depth: 3 | Purity Function: entropy | Test Set: Testing data | Error: 0.107\n",
      "Max Depth: 3 | Purity Function: gini | Test Set: Training data | Error: 0.094\n",
      "Max Depth: 3 | Purity Function: gini | Test Set: Testing data | Error: 0.112\n",
      "Max Depth: 3 | Purity Function: me | Test Set: Training data | Error: 0.096\n",
      "Max Depth: 3 | Purity Function: me | Test Set: Testing data | Error: 0.113\n",
      "Max Depth: 4 | Purity Function: entropy | Test Set: Training data | Error: 0.080\n",
      "Max Depth: 4 | Purity Function: entropy | Test Set: Testing data | Error: 0.115\n",
      "Max Depth: 4 | Purity Function: gini | Test Set: Training data | Error: 0.075\n",
      "Max Depth: 4 | Purity Function: gini | Test Set: Testing data | Error: 0.122\n",
      "Max Depth: 4 | Purity Function: me | Test Set: Training data | Error: 0.079\n",
      "Max Depth: 4 | Purity Function: me | Test Set: Testing data | Error: 0.118\n",
      "Max Depth: 5 | Purity Function: entropy | Test Set: Training data | Error: 0.062\n",
      "Max Depth: 5 | Purity Function: entropy | Test Set: Testing data | Error: 0.126\n",
      "Max Depth: 5 | Purity Function: gini | Test Set: Training data | Error: 0.060\n",
      "Max Depth: 5 | Purity Function: gini | Test Set: Testing data | Error: 0.132\n",
      "Max Depth: 5 | Purity Function: me | Test Set: Training data | Error: 0.063\n",
      "Max Depth: 5 | Purity Function: me | Test Set: Testing data | Error: 0.127\n",
      "Max Depth: 6 | Purity Function: entropy | Test Set: Training data | Error: 0.048\n",
      "Max Depth: 6 | Purity Function: entropy | Test Set: Testing data | Error: 0.131\n",
      "Max Depth: 6 | Purity Function: gini | Test Set: Training data | Error: 0.048\n",
      "Max Depth: 6 | Purity Function: gini | Test Set: Testing data | Error: 0.141\n",
      "Max Depth: 6 | Purity Function: me | Test Set: Training data | Error: 0.051\n",
      "Max Depth: 6 | Purity Function: me | Test Set: Testing data | Error: 0.136\n",
      "Max Depth: 7 | Purity Function: entropy | Test Set: Training data | Error: 0.037\n",
      "Max Depth: 7 | Purity Function: entropy | Test Set: Testing data | Error: 0.138\n",
      "Max Depth: 7 | Purity Function: gini | Test Set: Training data | Error: 0.036\n",
      "Max Depth: 7 | Purity Function: gini | Test Set: Testing data | Error: 0.149\n",
      "Max Depth: 7 | Purity Function: me | Test Set: Training data | Error: 0.040\n",
      "Max Depth: 7 | Purity Function: me | Test Set: Testing data | Error: 0.146\n",
      "Max Depth: 8 | Purity Function: entropy | Test Set: Training data | Error: 0.029\n",
      "Max Depth: 8 | Purity Function: entropy | Test Set: Testing data | Error: 0.142\n",
      "Max Depth: 8 | Purity Function: gini | Test Set: Training data | Error: 0.027\n",
      "Max Depth: 8 | Purity Function: gini | Test Set: Testing data | Error: 0.153\n",
      "Max Depth: 8 | Purity Function: me | Test Set: Training data | Error: 0.038\n",
      "Max Depth: 8 | Purity Function: me | Test Set: Testing data | Error: 0.145\n",
      "Max Depth: 9 | Purity Function: entropy | Test Set: Training data | Error: 0.022\n",
      "Max Depth: 9 | Purity Function: entropy | Test Set: Testing data | Error: 0.147\n",
      "Max Depth: 9 | Purity Function: gini | Test Set: Training data | Error: 0.021\n",
      "Max Depth: 9 | Purity Function: gini | Test Set: Testing data | Error: 0.158\n",
      "Max Depth: 9 | Purity Function: me | Test Set: Training data | Error: 0.033\n",
      "Max Depth: 9 | Purity Function: me | Test Set: Testing data | Error: 0.147\n",
      "Max Depth: 10 | Purity Function: entropy | Test Set: Training data | Error: 0.018\n",
      "Max Depth: 10 | Purity Function: entropy | Test Set: Testing data | Error: 0.151\n",
      "Max Depth: 10 | Purity Function: gini | Test Set: Training data | Error: 0.017\n",
      "Max Depth: 10 | Purity Function: gini | Test Set: Testing data | Error: 0.160\n",
      "Max Depth: 10 | Purity Function: me | Test Set: Training data | Error: 0.026\n",
      "Max Depth: 10 | Purity Function: me | Test Set: Testing data | Error: 0.150\n",
      "Max Depth: 11 | Purity Function: entropy | Test Set: Training data | Error: 0.015\n",
      "Max Depth: 11 | Purity Function: entropy | Test Set: Testing data | Error: 0.152\n",
      "Max Depth: 11 | Purity Function: gini | Test Set: Training data | Error: 0.014\n",
      "Max Depth: 11 | Purity Function: gini | Test Set: Testing data | Error: 0.163\n",
      "Max Depth: 11 | Purity Function: me | Test Set: Training data | Error: 0.023\n",
      "Max Depth: 11 | Purity Function: me | Test Set: Testing data | Error: 0.157\n",
      "Max Depth: 12 | Purity Function: entropy | Test Set: Training data | Error: 0.014\n",
      "Max Depth: 12 | Purity Function: entropy | Test Set: Testing data | Error: 0.155\n",
      "Max Depth: 12 | Purity Function: gini | Test Set: Training data | Error: 0.014\n",
      "Max Depth: 12 | Purity Function: gini | Test Set: Testing data | Error: 0.164\n",
      "Max Depth: 12 | Purity Function: me | Test Set: Training data | Error: 0.019\n",
      "Max Depth: 12 | Purity Function: me | Test Set: Testing data | Error: 0.161\n",
      "Max Depth: 13 | Purity Function: entropy | Test Set: Training data | Error: 0.013\n",
      "Max Depth: 13 | Purity Function: entropy | Test Set: Testing data | Error: 0.155\n",
      "Max Depth: 13 | Purity Function: gini | Test Set: Training data | Error: 0.013\n",
      "Max Depth: 13 | Purity Function: gini | Test Set: Testing data | Error: 0.164\n",
      "Max Depth: 13 | Purity Function: me | Test Set: Training data | Error: 0.015\n",
      "Max Depth: 13 | Purity Function: me | Test Set: Testing data | Error: 0.164\n",
      "Max Depth: 14 | Purity Function: entropy | Test Set: Training data | Error: 0.013\n",
      "Max Depth: 14 | Purity Function: entropy | Test Set: Testing data | Error: 0.155\n",
      "Max Depth: 14 | Purity Function: gini | Test Set: Training data | Error: 0.013\n",
      "Max Depth: 14 | Purity Function: gini | Test Set: Testing data | Error: 0.164\n",
      "Max Depth: 14 | Purity Function: me | Test Set: Training data | Error: 0.013\n",
      "Max Depth: 14 | Purity Function: me | Test Set: Testing data | Error: 0.164\n",
      "Max Depth: 15 | Purity Function: entropy | Test Set: Training data | Error: 0.013\n",
      "Max Depth: 15 | Purity Function: entropy | Test Set: Testing data | Error: 0.155\n",
      "Max Depth: 15 | Purity Function: gini | Test Set: Training data | Error: 0.013\n",
      "Max Depth: 15 | Purity Function: gini | Test Set: Testing data | Error: 0.164\n",
      "Max Depth: 15 | Purity Function: me | Test Set: Training data | Error: 0.013\n",
      "Max Depth: 15 | Purity Function: me | Test Set: Testing data | Error: 0.164\n",
      "Max Depth: 16 | Purity Function: entropy | Test Set: Training data | Error: 0.013\n",
      "Max Depth: 16 | Purity Function: entropy | Test Set: Testing data | Error: 0.155\n",
      "Max Depth: 16 | Purity Function: gini | Test Set: Training data | Error: 0.013\n",
      "Max Depth: 16 | Purity Function: gini | Test Set: Testing data | Error: 0.164\n",
      "Max Depth: 16 | Purity Function: me | Test Set: Training data | Error: 0.013\n",
      "Max Depth: 16 | Purity Function: me | Test Set: Testing data | Error: 0.164\n"
     ]
    }
   ],
   "metadata": {}
  },
  {
   "cell_type": "code",
   "execution_count": null,
   "source": [
    "test_decision_tree(df_train, df_test, attributes, 16)\r\n"
   ],
   "outputs": [],
   "metadata": {}
  },
  {
   "cell_type": "code",
   "execution_count": 72,
   "source": [
    "decision_tree = DecisionTree(df_train, attributes)\r\n",
    "decision_tree.build_tree(purity_type='gini', max_depth=10000)\r\n"
   ],
   "outputs": [],
   "metadata": {}
  },
  {
   "cell_type": "code",
   "execution_count": 73,
   "source": [
    "test_tree_accuracy(decision_tree, df_test)"
   ],
   "outputs": [
    {
     "output_type": "execute_result",
     "data": {
      "text/plain": [
       "0.8484"
      ]
     },
     "metadata": {},
     "execution_count": 73
    }
   ],
   "metadata": {}
  },
  {
   "cell_type": "code",
   "execution_count": 75,
   "source": [
    "for col in df_train.columns:\r\n",
    "    df_train[col] = df_train[col].astype('category')\r\n",
    "\r\n",
    "cat_columns = df_train.select_dtypes(['category']).columns\r\n",
    "df_train[cat_columns] = df_train[cat_columns].apply(lambda x: x.cat.codes)\r\n",
    "\r\n",
    "for col in df_test.columns:\r\n",
    "    df_test[col] = df_test[col].astype('category')\r\n",
    "\r\n",
    "cat_columns = df_test.select_dtypes(['category']).columns\r\n",
    "df_test[cat_columns] = df_test[cat_columns].apply(lambda x: x.cat.codes)"
   ],
   "outputs": [],
   "metadata": {}
  },
  {
   "cell_type": "code",
   "execution_count": 76,
   "source": [
    "X = df_train.loc[:, df_train.columns != 'label']\r\n",
    "y = df_train['label']\r\n",
    "\r\n",
    "clf = tree.DecisionTreeClassifier().fit(X, y)\r\n",
    "preds = clf.predict(df_train.loc[:, df_train.columns != 'label'])"
   ],
   "outputs": [],
   "metadata": {}
  },
  {
   "cell_type": "code",
   "execution_count": 77,
   "source": [
    "diff = pd.Series(preds) == df_train['label']\r\n",
    "if (diff == True).all():\r\n",
    "    print(1.0)\r\n",
    "else:\r\n",
    "    error_count = diff.value_counts()[False]\r\n",
    "    print( 1 - (error_count / len(preds)))"
   ],
   "outputs": [
    {
     "output_type": "stream",
     "name": "stdout",
     "text": [
      "0.982\n"
     ]
    }
   ],
   "metadata": {}
  }
 ],
 "metadata": {
  "orig_nbformat": 4,
  "language_info": {
   "name": "python",
   "version": "3.9.6",
   "mimetype": "text/x-python",
   "codemirror_mode": {
    "name": "ipython",
    "version": 3
   },
   "pygments_lexer": "ipython3",
   "nbconvert_exporter": "python",
   "file_extension": ".py"
  },
  "kernelspec": {
   "name": "python3",
   "display_name": "Python 3.9.6 64-bit"
  },
  "interpreter": {
   "hash": "63fd5069d213b44bf678585dea6b12cceca9941eaf7f819626cde1f2670de90d"
  }
 },
 "nbformat": 4,
 "nbformat_minor": 2
}