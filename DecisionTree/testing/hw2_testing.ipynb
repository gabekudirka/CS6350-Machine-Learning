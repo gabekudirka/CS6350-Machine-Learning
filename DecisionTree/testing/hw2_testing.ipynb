{
 "cells": [
  {
   "cell_type": "code",
   "execution_count": 1,
   "source": [
    "import numpy as np"
   ],
   "outputs": [],
   "metadata": {}
  },
  {
   "cell_type": "code",
   "execution_count": 56,
   "source": [
    "X = np.asarray([[1, -1, 2, 1], [1, 1, 3, 1], [-1 , 1, 0, 1], [1, 2, -4, 1], [3, -1, -1, 1]], dtype='float64')\r\n",
    "Y = np.asarray([1,4,-1,-2,0], dtype='float64')\r\n",
    "w = np.asarray([-1, 1, -1, -1], dtype='float64')"
   ],
   "outputs": [],
   "metadata": {}
  },
  {
   "cell_type": "code",
   "execution_count": 44,
   "source": [
    "np.dot(w.T,X[0])"
   ],
   "outputs": [
    {
     "output_type": "execute_result",
     "data": {
      "text/plain": [
       "-5"
      ]
     },
     "metadata": {},
     "execution_count": 44
    }
   ],
   "metadata": {}
  },
  {
   "cell_type": "code",
   "execution_count": 58,
   "source": [
    "d = 0\r\n",
    "for i in range(5):\r\n",
    "    d = d + (Y[i] - np.dot(w.T, X[i]))*X[i,0]\r\n",
    "d = d * -1\r\n",
    "d"
   ],
   "outputs": [
    {
     "output_type": "execute_result",
     "data": {
      "text/plain": [
       "-22.0"
      ]
     },
     "metadata": {},
     "execution_count": 58
    }
   ],
   "metadata": {}
  },
  {
   "cell_type": "code",
   "execution_count": null,
   "source": [
    "w = np.asarray([0,0,0,0], dtype='float64')\r\n",
    "r = 0.1\r\n",
    "grad = 0\r\n",
    "\r\n",
    "for i in range(5):\r\n",
    "    for j in range(4):\r\n",
    "        grad = (Y[i] - np.dot(w.T, X[i]))*X[i,j]\r\n",
    "        w[j] = w[j] + r*grad\r\n",
    "        print('For weight %d and example %d: Gradient = %f & w[%d] = %f' % (j, i, grad, j, w[j]))\r\n"
   ],
   "outputs": [],
   "metadata": {}
  },
  {
   "cell_type": "code",
   "execution_count": 61,
   "source": [
    "w"
   ],
   "outputs": [
    {
     "output_type": "execute_result",
     "data": {
      "text/plain": [
       "array([ 0.99948344,  0.99953689,  0.99989258, -0.9990031 ])"
      ]
     },
     "metadata": {},
     "execution_count": 61
    }
   ],
   "metadata": {}
  }
 ],
 "metadata": {
  "orig_nbformat": 4,
  "language_info": {
   "name": "python",
   "version": "3.9.6",
   "mimetype": "text/x-python",
   "codemirror_mode": {
    "name": "ipython",
    "version": 3
   },
   "pygments_lexer": "ipython3",
   "nbconvert_exporter": "python",
   "file_extension": ".py"
  },
  "kernelspec": {
   "name": "python3",
   "display_name": "Python 3.9.6 64-bit"
  },
  "interpreter": {
   "hash": "63fd5069d213b44bf678585dea6b12cceca9941eaf7f819626cde1f2670de90d"
  }
 },
 "nbformat": 4,
 "nbformat_minor": 2
}