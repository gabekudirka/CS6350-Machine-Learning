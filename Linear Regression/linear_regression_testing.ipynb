{
 "cells": [
  {
   "cell_type": "code",
   "execution_count": 1,
   "source": [
    "import numpy as np\r\n",
    "import pandas as pd\r\n",
    "from LinearRegression import LinearRegressor\r\n",
    "import matplotlib.pyplot as plt"
   ],
   "outputs": [],
   "metadata": {}
  },
  {
   "cell_type": "code",
   "execution_count": 2,
   "source": [
    "attributes = ['Cement','Slag','Fly ash','Water','SP','Coarse Aggr','Fine Aggr','SLUMP']\r\n",
    "\r\n",
    "df_train = pd.read_csv('../data/concrete/train.csv', names=attributes)\r\n",
    "df_test = pd.read_csv('../data/concrete/test.csv', names=attributes)"
   ],
   "outputs": [],
   "metadata": {}
  },
  {
   "cell_type": "code",
   "execution_count": 3,
   "source": [
    "X = df_train.loc[:, df_train.columns != 'SLUMP'].to_numpy(dtype='float64')\r\n",
    "y = df_train['SLUMP'].to_numpy(dtype='float64')\r\n",
    "\r\n",
    "regressor = LinearRegressor(X, y)"
   ],
   "outputs": [],
   "metadata": {}
  },
  {
   "cell_type": "code",
   "execution_count": 5,
   "source": [
    "X_test = df_test.loc[:, df_test.columns != 'SLUMP'].to_numpy(dtype='float64')\r\n",
    "y_test = df_test['SLUMP'].to_numpy(dtype='float64')\r\n",
    "\r\n",
    "bias_col = np.ones(X_test.shape[0])\r\n",
    "X_test = np.c_[X_test, bias_col]"
   ],
   "outputs": [],
   "metadata": {}
  },
  {
   "cell_type": "code",
   "execution_count": 7,
   "source": [
    "#Test Gradient Descent\r\n",
    "regressor = LinearRegressor(X, y)\r\n",
    "r = 0.01\r\n",
    "regressor.gradient_descent(r)\r\n",
    "cost = [(y_test[idx] - (regressor.w.T @ X_test[idx]))**2 for idx in range(X_test.shape[0])]\r\n",
    "cost = 0.5 * sum(cost)"
   ],
   "outputs": [],
   "metadata": {}
  },
  {
   "cell_type": "code",
   "execution_count": 8,
   "source": [
    "print('Learning rate: %f' % r)\r\n",
    "print('Weight Vector:')\r\n",
    "with np.printoptions(precision=4, suppress=True):\r\n",
    "    print(regressor.w[:-1])\r\n",
    "print('Bias: %f' % regressor.w[-1])\r\n",
    "print('Testing cost: %f' % cost)\r\n",
    "\r\n",
    "f = plt.figure()\r\n",
    "f.set_figwidth(10)\r\n",
    "f.set_figheight(8)\r\n",
    "plt.plot(regressor.costs)\r\n",
    "plt.title('Gradient Descent Cost')\r\n",
    "plt.xlabel('Steps')\r\n",
    "plt.ylabel('Cost')\r\n",
    "plt.show()"
   ],
   "outputs": [
    {
     "output_type": "stream",
     "name": "stdout",
     "text": [
      "Learning rate: 0.010000\n",
      "Weight Vector:\n",
      "[0.9002 0.7859 0.8507 1.2986 0.1298 1.5718 0.9983]\n",
      "Bias: -0.015204\n",
      "Testing cost: 23.361305\n"
     ]
    },
    {
     "output_type": "display_data",
     "data": {
      "text/plain": [
       "<Figure size 432x288 with 1 Axes>"
      ],
      "image/png": "[encoded data removed]"
     },
     "metadata": {
      "needs_background": "light"
     }
    }
   ],
   "metadata": {}
  },
  {
   "cell_type": "code",
   "execution_count": 10,
   "source": [
    "#Test Stochastic Gradient Descent\r\n",
    "regressor = LinearRegressor(X, y)\r\n",
    "r = 0.003\r\n",
    "num_iterations = 100\r\n",
    "regressor.stochastic_gradient_descent(r, num_iterations)\r\n",
    "cost = [(y_test[idx] - (regressor.w.T @ X_test[idx]))**2 for idx in range(X_test.shape[0])]\r\n",
    "cost = 0.5 * sum(cost)"
   ],
   "outputs": [],
   "metadata": {}
  },
  {
   "cell_type": "code",
   "execution_count": 1,
   "source": [
    "print('Learning rate: %f' % r)\r\n",
    "print('Weight Vector:')\r\n",
    "with np.printoptions(precision=4, suppress=True):\r\n",
    "    print(regressor.w[:-1])\r\n",
    "print('Bias: %f' % regressor.w[-1])\r\n",
    "print('Testing cost: %f' % cost)\r\n",
    "\r\n",
    "f = plt.figure()\r\n",
    "f.set_figwidth(10)\r\n",
    "f.set_figheight(8)\r\n",
    "plt.plot(regressor.costs)\r\n",
    "plt.title('Stochastic Gradient Descent Cost')\r\n",
    "plt.xlabel('Steps')\r\n",
    "plt.ylabel('Cost')\r\n",
    "plt.show()"
   ],
   "outputs": [
    {
     "output_type": "error",
     "ename": "NameError",
     "evalue": "name 'r' is not defined",
     "traceback": [
      "\u001b[1;31m---------------------------------------------------------------------------\u001b[0m",
      "\u001b[1;31mNameError\u001b[0m                                 Traceback (most recent call last)",
      "\u001b[1;32m~\\AppData\\Local\\Temp/ipykernel_2052/3122712771.py\u001b[0m in \u001b[0;36m<module>\u001b[1;34m\u001b[0m\n\u001b[1;32m----> 1\u001b[1;33m \u001b[0mprint\u001b[0m\u001b[1;33m(\u001b[0m\u001b[1;34m'Learning rate: %f'\u001b[0m \u001b[1;33m%\u001b[0m \u001b[0mr\u001b[0m\u001b[1;33m)\u001b[0m\u001b[1;33m\u001b[0m\u001b[1;33m\u001b[0m\u001b[0m\n\u001b[0m\u001b[0;32m      2\u001b[0m \u001b[0mprint\u001b[0m\u001b[1;33m(\u001b[0m\u001b[1;34m'Weight Vector:'\u001b[0m\u001b[1;33m)\u001b[0m\u001b[1;33m\u001b[0m\u001b[1;33m\u001b[0m\u001b[0m\n\u001b[0;32m      3\u001b[0m \u001b[1;32mwith\u001b[0m \u001b[0mnp\u001b[0m\u001b[1;33m.\u001b[0m\u001b[0mprintoptions\u001b[0m\u001b[1;33m(\u001b[0m\u001b[0mprecision\u001b[0m\u001b[1;33m=\u001b[0m\u001b[1;36m4\u001b[0m\u001b[1;33m,\u001b[0m \u001b[0msuppress\u001b[0m\u001b[1;33m=\u001b[0m\u001b[1;32mTrue\u001b[0m\u001b[1;33m)\u001b[0m\u001b[1;33m:\u001b[0m\u001b[1;33m\u001b[0m\u001b[1;33m\u001b[0m\u001b[0m\n\u001b[0;32m      4\u001b[0m     \u001b[0mprint\u001b[0m\u001b[1;33m(\u001b[0m\u001b[0mregressor\u001b[0m\u001b[1;33m.\u001b[0m\u001b[0mw\u001b[0m\u001b[1;33m[\u001b[0m\u001b[1;33m:\u001b[0m\u001b[1;33m-\u001b[0m\u001b[1;36m1\u001b[0m\u001b[1;33m]\u001b[0m\u001b[1;33m)\u001b[0m\u001b[1;33m\u001b[0m\u001b[1;33m\u001b[0m\u001b[0m\n\u001b[0;32m      5\u001b[0m \u001b[0mprint\u001b[0m\u001b[1;33m(\u001b[0m\u001b[1;34m'Bias: %f'\u001b[0m \u001b[1;33m%\u001b[0m \u001b[0mregressor\u001b[0m\u001b[1;33m.\u001b[0m\u001b[0mw\u001b[0m\u001b[1;33m[\u001b[0m\u001b[1;33m-\u001b[0m\u001b[1;36m1\u001b[0m\u001b[1;33m]\u001b[0m\u001b[1;33m)\u001b[0m\u001b[1;33m\u001b[0m\u001b[1;33m\u001b[0m\u001b[0m\n",
      "\u001b[1;31mNameError\u001b[0m: name 'r' is not defined"
     ]
    }
   ],
   "metadata": {}
  },
  {
   "cell_type": "code",
   "execution_count": 12,
   "source": [
    "#Analytical calculation\r\n",
    "bias_col = np.ones(X.shape[0])\r\n",
    "X1 = np.c_[X, bias_col]\r\n",
    "optimal_w = np.linalg.inv(X1.T @ X1) @ X1.T @ y.T\r\n",
    "\r\n",
    "print('Optimal weight vector:')\r\n",
    "with np.printoptions(precision=4, suppress=True):\r\n",
    "    print(optimal_w[:-1])\r\n",
    "print('Optimal Bias: %f' % optimal_w[-1])"
   ],
   "outputs": [
    {
     "output_type": "stream",
     "name": "stdout",
     "text": [
      "Optimal weight vector:\n",
      "[0.9006 0.7863 0.851  1.2989 0.1299 1.5722 0.9987]\n",
      "Optimal Bias: -0.015197\n"
     ]
    }
   ],
   "metadata": {}
  }
 ],
 "metadata": {
  "orig_nbformat": 4,
  "language_info": {
   "name": "python",
   "version": "3.9.6",
   "mimetype": "text/x-python",
   "codemirror_mode": {
    "name": "ipython",
    "version": 3
   },
   "pygments_lexer": "ipython3",
   "nbconvert_exporter": "python",
   "file_extension": ".py"
  },
  "kernelspec": {
   "name": "python3",
   "display_name": "Python 3.9.6 64-bit"
  },
  "interpreter": {
   "hash": "63fd5069d213b44bf678585dea6b12cceca9941eaf7f819626cde1f2670de90d"
  }
 },
 "nbformat": 4,
 "nbformat_minor": 2
}