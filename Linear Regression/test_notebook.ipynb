{
 "cells": [
  {
   "cell_type": "code",
   "execution_count": 9,
   "source": [
    "import numpy as np\r\n",
    "import pandas as pd\r\n",
    "from LinearRegression import LinearRegressor\r\n",
    "import matplotlib.pyplot as plt"
   ],
   "outputs": [],
   "metadata": {}
  },
  {
   "cell_type": "code",
   "execution_count": 10,
   "source": [
    "attributes = ['Cement','Slag','Fly ash','Water','SP','Coarse Aggr','Fine Aggr','SLUMP']\r\n",
    "\r\n",
    "df_train = pd.read_csv('../data/concrete/train.csv', names=attributes)\r\n",
    "df_test = pd.read_csv('../data/concrete/test.csv', names=attributes)"
   ],
   "outputs": [],
   "metadata": {}
  },
  {
   "cell_type": "code",
   "execution_count": 11,
   "source": [
    "df_train.head()"
   ],
   "outputs": [
    {
     "output_type": "execute_result",
     "data": {
      "text/plain": [
       "     Cement      Slag   Fly ash     Water        SP  Coarse Aggr  Fine Aggr  \\\n",
       "0 -0.890447 -1.295950  1.188030 -1.450430  1.238500     1.876070  -0.818684   \n",
       "1  0.549165  0.066917 -0.517804  0.638098  0.164716     0.227616  -0.945600   \n",
       "2  0.941555 -1.292630  1.068030  1.950890 -0.085833    -1.180960  -0.385584   \n",
       "3 -0.966886  1.047520  0.376289  1.831540  0.880569    -0.988829  -0.898007   \n",
       "4  0.638344  0.233121 -0.364867  0.488917  0.164716    -0.011126  -0.961465   \n",
       "\n",
       "      SLUMP  \n",
       "0 -0.005574  \n",
       "1  0.568593  \n",
       "2  0.798260  \n",
       "3  0.568593  \n",
       "4  0.855677  "
      ],
      "text/html": [
       "<div>\n",
       "<style scoped>\n",
       "    .dataframe tbody tr th:only-of-type {\n",
       "        vertical-align: middle;\n",
       "    }\n",
       "\n",
       "    .dataframe tbody tr th {\n",
       "        vertical-align: top;\n",
       "    }\n",
       "\n",
       "    .dataframe thead th {\n",
       "        text-align: right;\n",
       "    }\n",
       "</style>\n",
       "<table border=\"1\" class=\"dataframe\">\n",
       "  <thead>\n",
       "    <tr style=\"text-align: right;\">\n",
       "      <th></th>\n",
       "      <th>Cement</th>\n",
       "      <th>Slag</th>\n",
       "      <th>Fly ash</th>\n",
       "      <th>Water</th>\n",
       "      <th>SP</th>\n",
       "      <th>Coarse Aggr</th>\n",
       "      <th>Fine Aggr</th>\n",
       "      <th>SLUMP</th>\n",
       "    </tr>\n",
       "  </thead>\n",
       "  <tbody>\n",
       "    <tr>\n",
       "      <th>0</th>\n",
       "      <td>-0.890447</td>\n",
       "      <td>-1.295950</td>\n",
       "      <td>1.188030</td>\n",
       "      <td>-1.450430</td>\n",
       "      <td>1.238500</td>\n",
       "      <td>1.876070</td>\n",
       "      <td>-0.818684</td>\n",
       "      <td>-0.005574</td>\n",
       "    </tr>\n",
       "    <tr>\n",
       "      <th>1</th>\n",
       "      <td>0.549165</td>\n",
       "      <td>0.066917</td>\n",
       "      <td>-0.517804</td>\n",
       "      <td>0.638098</td>\n",
       "      <td>0.164716</td>\n",
       "      <td>0.227616</td>\n",
       "      <td>-0.945600</td>\n",
       "      <td>0.568593</td>\n",
       "    </tr>\n",
       "    <tr>\n",
       "      <th>2</th>\n",
       "      <td>0.941555</td>\n",
       "      <td>-1.292630</td>\n",
       "      <td>1.068030</td>\n",
       "      <td>1.950890</td>\n",
       "      <td>-0.085833</td>\n",
       "      <td>-1.180960</td>\n",
       "      <td>-0.385584</td>\n",
       "      <td>0.798260</td>\n",
       "    </tr>\n",
       "    <tr>\n",
       "      <th>3</th>\n",
       "      <td>-0.966886</td>\n",
       "      <td>1.047520</td>\n",
       "      <td>0.376289</td>\n",
       "      <td>1.831540</td>\n",
       "      <td>0.880569</td>\n",
       "      <td>-0.988829</td>\n",
       "      <td>-0.898007</td>\n",
       "      <td>0.568593</td>\n",
       "    </tr>\n",
       "    <tr>\n",
       "      <th>4</th>\n",
       "      <td>0.638344</td>\n",
       "      <td>0.233121</td>\n",
       "      <td>-0.364867</td>\n",
       "      <td>0.488917</td>\n",
       "      <td>0.164716</td>\n",
       "      <td>-0.011126</td>\n",
       "      <td>-0.961465</td>\n",
       "      <td>0.855677</td>\n",
       "    </tr>\n",
       "  </tbody>\n",
       "</table>\n",
       "</div>"
      ]
     },
     "metadata": {},
     "execution_count": 11
    }
   ],
   "metadata": {}
  },
  {
   "cell_type": "code",
   "execution_count": 12,
   "source": [
    "X = df_train.loc[:, df_train.columns != 'SLUMP'].to_numpy(dtype='float64')\r\n",
    "y = df_train['SLUMP'].to_numpy(dtype='float64')\r\n",
    "\r\n",
    "regressor = LinearRegressor(X, y)"
   ],
   "outputs": [],
   "metadata": {}
  },
  {
   "cell_type": "code",
   "execution_count": 13,
   "source": [
    "\r\n",
    "regressor.gradient_descent(0.01)"
   ],
   "outputs": [],
   "metadata": {}
  },
  {
   "cell_type": "code",
   "execution_count": 14,
   "source": [
    "plt.plot(regressor.costs)"
   ],
   "outputs": [
    {
     "output_type": "execute_result",
     "data": {
      "text/plain": [
       "[<matplotlib.lines.Line2D at 0x1698e8e3040>]"
      ]
     },
     "metadata": {},
     "execution_count": 14
    },
    {
     "output_type": "display_data",
     "data": {
      "text/plain": [
       "<Figure size 432x288 with 1 Axes>"
      ],
      "image/png": "[encoded data removed]"
     },
     "metadata": {
      "needs_background": "light"
     }
    }
   ],
   "metadata": {}
  },
  {
   "cell_type": "code",
   "execution_count": 6,
   "source": [
    "regressor.w"
   ],
   "outputs": [
    {
     "output_type": "execute_result",
     "data": {
      "text/plain": [
       "array([ 0.90022499,  0.78594341,  0.85066508,  1.29862298,  0.12983393,\n",
       "        1.5717928 ,  0.99834709, -0.01520362])"
      ]
     },
     "metadata": {},
     "execution_count": 6
    }
   ],
   "metadata": {}
  },
  {
   "cell_type": "code",
   "execution_count": 7,
   "source": [
    "bias_col = np.ones(X.shape[0])\r\n",
    "X1 = np.c_[X, bias_col]\r\n",
    "np.linalg.inv(X1.T @ X1) @ X1.T @ y.T"
   ],
   "outputs": [
    {
     "output_type": "execute_result",
     "data": {
      "text/plain": [
       "array([ 0.90056451,  0.78629331,  0.85104314,  1.29889413,  0.12989067,\n",
       "        1.57224887,  0.99869359, -0.01519667])"
      ]
     },
     "metadata": {},
     "execution_count": 7
    }
   ],
   "metadata": {}
  },
  {
   "cell_type": "code",
   "execution_count": 8,
   "source": [
    "num_iterations = 100\r\n",
    "regressor.stochastic_gradient_descent(0.003, num_iterations)"
   ],
   "outputs": [
    {
     "output_type": "stream",
     "name": "stdout",
     "text": [
      "Lower the learning rate\n"
     ]
    }
   ],
   "metadata": {}
  },
  {
   "cell_type": "code",
   "execution_count": null,
   "source": [
    "regressor.w"
   ],
   "outputs": [
    {
     "output_type": "execute_result",
     "data": {
      "text/plain": [
       "array([ 0.1842044 ,  0.04887742,  0.05758578,  0.71950418,  0.01738434,\n",
       "        0.60631814,  0.27117259, -0.03904332])"
      ]
     },
     "metadata": {},
     "execution_count": 33
    }
   ],
   "metadata": {}
  },
  {
   "cell_type": "code",
   "execution_count": null,
   "source": [
    "len(regressor.costs)"
   ],
   "outputs": [
    {
     "output_type": "execute_result",
     "data": {
      "text/plain": [
       "53000"
      ]
     },
     "metadata": {},
     "execution_count": 34
    }
   ],
   "metadata": {}
  },
  {
   "cell_type": "code",
   "execution_count": null,
   "source": [
    "plt.plot(regressor.costs)"
   ],
   "outputs": [
    {
     "output_type": "execute_result",
     "data": {
      "text/plain": [
       "[<matplotlib.lines.Line2D at 0x18f8bab1b80>]"
      ]
     },
     "metadata": {},
     "execution_count": 35
    },
    {
     "output_type": "display_data",
     "data": {
      "text/plain": [
       "<Figure size 432x288 with 1 Axes>"
      ],
      "image/png": "[encoded data removed]"
     },
     "metadata": {
      "needs_background": "light"
     }
    }
   ],
   "metadata": {}
  }
 ],
 "metadata": {
  "orig_nbformat": 4,
  "language_info": {
   "name": "python",
   "version": "3.9.6",
   "mimetype": "text/x-python",
   "codemirror_mode": {
    "name": "ipython",
    "version": 3
   },
   "pygments_lexer": "ipython3",
   "nbconvert_exporter": "python",
   "file_extension": ".py"
  },
  "kernelspec": {
   "name": "python3",
   "display_name": "Python 3.9.6 64-bit"
  },
  "interpreter": {
   "hash": "63fd5069d213b44bf678585dea6b12cceca9941eaf7f819626cde1f2670de90d"
  }
 },
 "nbformat": 4,
 "nbformat_minor": 2
}