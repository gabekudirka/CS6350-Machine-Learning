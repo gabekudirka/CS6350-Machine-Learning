{
 "cells": [
  {
   "cell_type": "code",
   "execution_count": 21,
   "source": [
    "import pandas as pd\r\n",
    "import numpy as np\r\n",
    "# from ThreeLayerNet import NN\r\n",
    "from NN3Layer import ThreeLayerNN\r\n",
    "import matplotlib.pyplot as plt"
   ],
   "outputs": [],
   "metadata": {}
  },
  {
   "cell_type": "code",
   "execution_count": 2,
   "source": [
    "def test_accuracy(model, X_test, y_test):\r\n",
    "    i = 0\r\n",
    "    for idx, xi in enumerate(X_test):\r\n",
    "        if model.predict(xi) != y_test[idx]:\r\n",
    "            i+=1\r\n",
    "    return i / len(y_test)"
   ],
   "outputs": [],
   "metadata": {}
  },
  {
   "cell_type": "code",
   "execution_count": 3,
   "source": [
    "attributes = ['variance','skewness','curtosis','entropy','genuine']\r\n",
    "\r\n",
    "df_train = pd.read_csv('../data/bank-note/train.csv', names=attributes)\r\n",
    "df_test = pd.read_csv('../data/bank-note/test.csv', names=attributes)\r\n",
    "\r\n",
    "df_train['genuine'].iloc[df_train['genuine'] == 0] = -1\r\n",
    "df_test['genuine'].iloc[df_test['genuine'] == 0] = -1\r\n",
    "\r\n",
    "X_train = df_train.loc[:, df_train.columns != 'genuine'].to_numpy(dtype='float64')\r\n",
    "y_train = df_train['genuine'].to_numpy(dtype='float64')\r\n",
    "\r\n",
    "X_test = df_test.loc[:, df_test.columns != 'genuine'].to_numpy(dtype='float64')\r\n",
    "y_test = df_test['genuine'].to_numpy(dtype='float64')"
   ],
   "outputs": [
    {
     "output_type": "stream",
     "name": "stderr",
     "text": [
      "C:\\Python39\\lib\\site-packages\\pandas\\core\\indexing.py:1732: SettingWithCopyWarning: \n",
      "A value is trying to be set on a copy of a slice from a DataFrame\n",
      "\n",
      "See the caveats in the documentation: https://pandas.pydata.org/pandas-docs/stable/user_guide/indexing.html#returning-a-view-versus-a-copy\n",
      "  self._setitem_single_block(indexer, value, name)\n"
     ]
    }
   ],
   "metadata": {}
  },
  {
   "cell_type": "code",
   "execution_count": 4,
   "source": [
    "NN = ThreeLayerNN(X_train.shape[1], 5, X_train, y_train)"
   ],
   "outputs": [],
   "metadata": {}
  },
  {
   "cell_type": "code",
   "execution_count": 5,
   "source": [
    "sample_example = X_train[0]\r\n",
    "y_hat = NN.forward(sample_example)\r\n",
    "dW1, dW2, dW3 = NN.backpropogate(y_train[0], y_hat, 0.1)"
   ],
   "outputs": [],
   "metadata": {}
  },
  {
   "cell_type": "code",
   "execution_count": 6,
   "source": [
    "print('Results for problem 2a:')\r\n",
    "print('Test example:')\r\n",
    "print(X_train[0])\r\n",
    "print('First layer edge weight gradients:')\r\n",
    "print(dW1)\r\n",
    "print('Second layer edge weight gradients:')\r\n",
    "print(dW2)\r\n",
    "print('Third layer edge weight gradients:')\r\n",
    "print(dW3)"
   ],
   "outputs": [
    {
     "output_type": "stream",
     "name": "stdout",
     "text": [
      "Results for problem 2a:\n",
      "Test example:\n",
      "[ 3.8481 10.1539 -3.8561 -4.2228]\n",
      "First layer edge weight gradients:\n",
      "[[ -0.17125561   0.76423566   0.07691598  -0.32847588   0.45359683\n",
      "   -1.50505737]\n",
      " [ -0.6590087    2.94085523   0.29598037  -1.26400804   1.74548598\n",
      "   -5.79161127]\n",
      " [ -1.73891229   7.75997244   0.78099715  -3.33531126   4.6057769\n",
      "  -15.28220205]\n",
      " [  0.66037874  -2.94696912  -0.2965957    1.26663585  -1.74911475\n",
      "    5.80365173]\n",
      " [  0.72317817  -3.22721433  -0.32480079   1.38708796  -1.91544871\n",
      "    6.35555627]]\n",
      "Second layer edge weight gradients:\n",
      "[[ 7.41877481e-01  1.08939298e+00 -1.28485570e+00  2.06478467e+00\n",
      "   1.91825226e+00  5.46656256e-01]\n",
      " [ 3.41975813e-09  5.02166541e-09 -5.92267029e-09  9.51783059e-09\n",
      "   8.84237484e-09  2.51986645e-09]\n",
      " [ 7.42100770e-01  1.08972086e+00 -1.28524241e+00  2.06540613e+00\n",
      "   1.91882962e+00  5.46820788e-01]\n",
      " [ 7.41386911e-01  1.08867261e+00 -1.28400608e+00  2.06341933e+00\n",
      "   1.91698381e+00  5.46294777e-01]\n",
      " [ 1.61599470e-01  2.37297037e-01 -2.79873706e-01  4.49761745e-01\n",
      "   4.17843321e-01  1.19075405e-01]\n",
      " [ 1.21417353e-06  1.78292528e-06 -2.10282400e-06  3.37927348e-06\n",
      "   3.13945520e-06  8.94670039e-07]]\n",
      "Third layer edge weight gradients:\n",
      "[[1.93336734]\n",
      " [1.31669842]\n",
      " [1.4945497 ]\n",
      " [0.22009678]\n",
      " [0.79006039]\n",
      " [1.86391476]]\n"
     ]
    }
   ],
   "metadata": {}
  },
  {
   "cell_type": "code",
   "execution_count": 20,
   "source": [
    "widths = [5, 10, 25, 50, 100]\r\n",
    "models = []\r\n",
    "for width in widths:\r\n",
    "    NN = ThreeLayerNN(X_train.shape[1], width, X_train, y_train, True)\r\n",
    "    epochs = width * 2\r\n",
    "    lr = 1 / (width * 10)\r\n",
    "    NN.train(epochs, lr, 2)\r\n",
    "    models.append(NN)\r\n",
    "    print('Training Accuracy of NN with a width of %d : %f' % (width, test_accuracy(NN, X_train, y_train)))\r\n",
    "    print('Test Accuracy of NN with a width of %d : %f' % (width, test_accuracy(NN, X_test, y_test)))\r\n",
    "    print('')"
   ],
   "outputs": [
    {
     "output_type": "stream",
     "name": "stderr",
     "text": [
      "c:\\Users\\Gabrielius Kudirka\\Documents\\U of U - Fall 2022\\Machine Learning\\repo\\Neural Networks\\NN3Layer.py:41: RuntimeWarning: overflow encountered in exp\n",
      "  return 1.0 / (1.0 + np.exp(-x))\n"
     ]
    },
    {
     "output_type": "stream",
     "name": "stdout",
     "text": [
      "Training Accuracy of NN with a width of 5 : 0.446101\n",
      "Test Accuracy of NN with a width of 5 : 0.442000\n",
      "\n",
      "Training Accuracy of NN with a width of 10 : 0.446101\n",
      "Test Accuracy of NN with a width of 10 : 0.442000\n",
      "\n",
      "Training Accuracy of NN with a width of 25 : 0.446101\n",
      "Test Accuracy of NN with a width of 25 : 0.442000\n",
      "\n",
      "Training Accuracy of NN with a width of 50 : 0.446101\n",
      "Test Accuracy of NN with a width of 50 : 0.442000\n",
      "\n",
      "Training Accuracy of NN with a width of 100 : 0.446101\n",
      "Test Accuracy of NN with a width of 100 : 0.442000\n",
      "\n"
     ]
    }
   ],
   "metadata": {}
  },
  {
   "cell_type": "code",
   "execution_count": 19,
   "source": [
    "plt.plot(models[0].avg_losses)"
   ],
   "outputs": [
    {
     "output_type": "execute_result",
     "data": {
      "text/plain": [
       "[<matplotlib.lines.Line2D at 0x1ca0bd8b6d0>]"
      ]
     },
     "metadata": {},
     "execution_count": 19
    },
    {
     "output_type": "display_data",
     "data": {
      "text/plain": [
       "<Figure size 432x288 with 1 Axes>"
      ],
      "image/png": "[encoded data removed]"
     },
     "metadata": {
      "needs_background": "light"
     }
    }
   ],
   "metadata": {}
  },
  {
   "cell_type": "markdown",
   "source": [],
   "metadata": {}
  },
  {
   "cell_type": "code",
   "execution_count": null,
   "source": [
    "NN.train(100, 0.1)"
   ],
   "outputs": [
    {
     "output_type": "stream",
     "name": "stderr",
     "text": [
      "c:\\Users\\Gabrielius Kudirka\\Documents\\U of U - Fall 2022\\Machine Learning\\repo\\Neural Networks\\NN3Layer.py:42: RuntimeWarning: overflow encountered in exp\n",
      "  return 1.0 / (1.0 + np.exp(-x))\n"
     ]
    }
   ],
   "metadata": {}
  },
  {
   "cell_type": "code",
   "execution_count": null,
   "source": [
    "test_accuracy(NN, X_test, y_test)"
   ],
   "outputs": [
    {
     "output_type": "execute_result",
     "data": {
      "text/plain": [
       "0.052"
      ]
     },
     "metadata": {},
     "execution_count": 6
    }
   ],
   "metadata": {}
  },
  {
   "cell_type": "code",
   "execution_count": null,
   "source": [
    "NN.predict(X_test[0])"
   ],
   "outputs": [
    {
     "output_type": "execute_result",
     "data": {
      "text/plain": [
       "-1.0"
      ]
     },
     "metadata": {},
     "execution_count": 7
    }
   ],
   "metadata": {}
  },
  {
   "cell_type": "code",
   "execution_count": 22,
   "source": [
    "def sigmoid(x):\r\n",
    "    return 1.0 / (1.0 + np.exp(-x))"
   ],
   "outputs": [],
   "metadata": {}
  },
  {
   "cell_type": "code",
   "execution_count": 29,
   "source": [
    "sigmoid(3.9975)"
   ],
   "outputs": [
    {
     "output_type": "execute_result",
     "data": {
      "text/plain": [
       "0.9819695800208065"
      ]
     },
     "metadata": {},
     "execution_count": 29
    }
   ],
   "metadata": {}
  },
  {
   "cell_type": "code",
   "execution_count": 28,
   "source": [
    "-1 * 1 + 2 * 0.018 + -1.5 * 0.982"
   ],
   "outputs": [
    {
     "output_type": "execute_result",
     "data": {
      "text/plain": [
       "3.9975"
      ]
     },
     "metadata": {},
     "execution_count": 28
    }
   ],
   "metadata": {}
  }
 ],
 "metadata": {
  "orig_nbformat": 4,
  "language_info": {
   "name": "python",
   "version": "3.9.6",
   "mimetype": "text/x-python",
   "codemirror_mode": {
    "name": "ipython",
    "version": 3
   },
   "pygments_lexer": "ipython3",
   "nbconvert_exporter": "python",
   "file_extension": ".py"
  },
  "kernelspec": {
   "name": "python3",
   "display_name": "Python 3.9.6 64-bit"
  },
  "interpreter": {
   "hash": "63fd5069d213b44bf678585dea6b12cceca9941eaf7f819626cde1f2670de90d"
  }
 },
 "nbformat": 4,
 "nbformat_minor": 2
}