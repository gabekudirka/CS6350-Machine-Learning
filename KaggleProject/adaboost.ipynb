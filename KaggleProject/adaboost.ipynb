{
 "cells": [
  {
   "cell_type": "code",
   "execution_count": 7,
   "source": [
    "import pandas as pd\r\n",
    "import numpy as np\r\n",
    "from xgboost import XGBClassifier\r\n",
    "from sklearn.model_selection import GridSearchCV\r\n",
    "from sklearn.ensemble import AdaBoostClassifier\r\n",
    "from sklearn import preprocessing"
   ],
   "outputs": [],
   "metadata": {}
  },
  {
   "cell_type": "code",
   "execution_count": 8,
   "source": [
    "df_train = pd.read_csv('train_final.csv')\r\n",
    "df_test = pd.read_csv('test_final.csv')\r\n",
    "df_test = df_test.drop('ID',axis = 1)"
   ],
   "outputs": [],
   "metadata": {}
  },
  {
   "cell_type": "code",
   "execution_count": 9,
   "source": [
    "#One Hot Encoding\r\n",
    "# for col in ['workclass', 'education', 'marital.status', 'occupation', 'relationship', 'sex', 'race', 'native.country']:\r\n",
    "#     one_hot_train = pd.get_dummies(df_train[col], prefix=col)\r\n",
    "#     one_hot_test = pd.get_dummies(df_test[col], prefix=col)\r\n",
    "\r\n",
    "#     df_train = df_train.drop(col,axis = 1)\r\n",
    "#     df_train = pd.concat([df_train,one_hot_train],axis=1)\r\n",
    "\r\n",
    "#     df_test = df_test.drop(col,axis = 1)\r\n",
    "#     df_test = pd.concat([df_test,one_hot_test],axis=1)"
   ],
   "outputs": [],
   "metadata": {}
  },
  {
   "cell_type": "code",
   "execution_count": 10,
   "source": [
    "#Label encoding\r\n",
    "label_encoder = preprocessing.LabelEncoder()\r\n",
    "for col in ['workclass', 'education', 'marital.status', 'occupation', 'relationship', 'sex', 'race', 'native.country']:\r\n",
    "    df_test[col] = label_encoder.fit_transform(df_test[col]) \r\n",
    "    df_train[col]= label_encoder.transform(df_train[col]) "
   ],
   "outputs": [],
   "metadata": {}
  },
  {
   "cell_type": "code",
   "execution_count": 11,
   "source": [
    "X = df_train.loc[:, df_train.columns != 'income>50K']\r\n",
    "y = df_train['income>50K']\r\n",
    "\r\n",
    "X_test_final = df_test.loc[:, df_test.columns != 'income>50K']"
   ],
   "outputs": [],
   "metadata": {}
  },
  {
   "cell_type": "code",
   "execution_count": 22,
   "source": [
    "estimator = AdaBoostClassifier(\r\n",
    "    random_state=42\r\n",
    ")\r\n",
    "\r\n",
    "parameters = {\r\n",
    "    'n_estimators': [300, 350, 400],\r\n",
    "    'learning_rate': [1.5],\r\n",
    "}\r\n",
    "\r\n",
    "grid_search = GridSearchCV(\r\n",
    "    estimator=estimator,\r\n",
    "    param_grid=parameters,\r\n",
    "    scoring = 'accuracy',\r\n",
    "    cv = 6,\r\n",
    "    verbose=True\r\n",
    ")"
   ],
   "outputs": [],
   "metadata": {}
  },
  {
   "cell_type": "code",
   "execution_count": 23,
   "source": [
    "grid_search.fit(X,y)"
   ],
   "outputs": [
    {
     "output_type": "stream",
     "name": "stdout",
     "text": [
      "Fitting 6 folds for each of 3 candidates, totalling 18 fits\n"
     ]
    },
    {
     "output_type": "execute_result",
     "data": {
      "text/plain": [
       "GridSearchCV(cv=6, estimator=AdaBoostClassifier(random_state=42),\n",
       "             param_grid={'learning_rate': [1.5],\n",
       "                         'n_estimators': [300, 350, 400]},\n",
       "             scoring='accuracy', verbose=True)"
      ]
     },
     "metadata": {},
     "execution_count": 23
    }
   ],
   "metadata": {}
  },
  {
   "cell_type": "code",
   "execution_count": 24,
   "source": [
    "print(\" Results from Grid Search \" )\r\n",
    "print(\"\\n The best estimator across ALL searched params:\\n\",grid_search.best_estimator_)\r\n",
    "print(\"\\n The best score across ALL searched params:\\n\",grid_search.best_score_)\r\n",
    "print(\"\\n The best parameters across ALL searched params:\\n\",grid_search.best_params_)"
   ],
   "outputs": [
    {
     "output_type": "stream",
     "name": "stdout",
     "text": [
      " Results from Grid Search \n",
      "\n",
      " The best estimator across ALL searched params:\n",
      " AdaBoostClassifier(learning_rate=1.5, n_estimators=350, random_state=42)\n",
      "\n",
      " The best score across ALL searched params:\n",
      " 0.8726801999863055\n",
      "\n",
      " The best parameters across ALL searched params:\n",
      " {'learning_rate': 1.5, 'n_estimators': 350}\n"
     ]
    }
   ],
   "metadata": {}
  },
  {
   "cell_type": "code",
   "execution_count": 26,
   "source": [
    "best_params =  {'learning_rate': 1.5, 'n_estimators': 350}"
   ],
   "outputs": [],
   "metadata": {}
  },
  {
   "cell_type": "code",
   "execution_count": 27,
   "source": [
    "clf = AdaBoostClassifier(**best_params)\r\n",
    "clf.fit(X, y)"
   ],
   "outputs": [
    {
     "output_type": "execute_result",
     "data": {
      "text/plain": [
       "AdaBoostClassifier(learning_rate=1.5, n_estimators=350)"
      ]
     },
     "metadata": {},
     "execution_count": 27
    }
   ],
   "metadata": {}
  },
  {
   "cell_type": "code",
   "execution_count": 28,
   "source": [
    "y_pred = clf.predict(X_test_final)"
   ],
   "outputs": [],
   "metadata": {}
  },
  {
   "cell_type": "code",
   "execution_count": null,
   "source": [
    "import csv\r\n",
    "ctr = 1\r\n",
    "data = [['ID', 'Prediction']]\r\n",
    "for pred in y_pred:\r\n",
    "    row = [ctr, pred]\r\n",
    "    data.append(row)\r\n",
    "    ctr += 1\r\n",
    "# open the file in the write mode\r\n",
    "with open('results_adaboost.csv', 'w', newline='') as f:\r\n",
    "    writer = csv.writer(f)\r\n",
    "    writer.writerows(data)"
   ],
   "outputs": [],
   "metadata": {}
  }
 ],
 "metadata": {
  "orig_nbformat": 4,
  "language_info": {
   "name": "python",
   "version": "3.9.6",
   "mimetype": "text/x-python",
   "codemirror_mode": {
    "name": "ipython",
    "version": 3
   },
   "pygments_lexer": "ipython3",
   "nbconvert_exporter": "python",
   "file_extension": ".py"
  },
  "kernelspec": {
   "name": "python3",
   "display_name": "Python 3.9.6 64-bit"
  },
  "interpreter": {
   "hash": "63fd5069d213b44bf678585dea6b12cceca9941eaf7f819626cde1f2670de90d"
  }
 },
 "nbformat": 4,
 "nbformat_minor": 2
}