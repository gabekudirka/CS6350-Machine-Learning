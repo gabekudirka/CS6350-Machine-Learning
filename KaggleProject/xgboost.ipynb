{
 "cells": [
  {
   "cell_type": "code",
   "execution_count": 105,
   "source": [
    "import pandas as pd\r\n",
    "import numpy as np\r\n",
    "from xgboost import XGBClassifier\r\n",
    "from sklearn.model_selection import GridSearchCV\r\n",
    "from sklearn import preprocessing"
   ],
   "outputs": [],
   "metadata": {}
  },
  {
   "cell_type": "code",
   "execution_count": 111,
   "source": [
    "df_train = pd.read_csv('train_final.csv')\r\n",
    "df_test = pd.read_csv('test_final.csv')"
   ],
   "outputs": [],
   "metadata": {}
  },
  {
   "cell_type": "code",
   "execution_count": 107,
   "source": [
    "df_test = df_test.drop('ID',axis = 1)"
   ],
   "outputs": [],
   "metadata": {}
  },
  {
   "cell_type": "code",
   "execution_count": 16,
   "source": [
    "# for col in ['workclass', 'education', 'marital.status', 'occupation', 'relationship', 'sex', 'race', 'native.country']:\r\n",
    "#     one_hot_train = pd.get_dummies(df_train[col], prefix=col)\r\n",
    "#     one_hot_test = pd.get_dummies(df_test[col], prefix=col)\r\n",
    "\r\n",
    "#     df_train = df_train.drop(col,axis = 1)\r\n",
    "#     df_train = pd.concat([df_train,one_hot_train],axis=1)\r\n",
    "\r\n",
    "#     df_test = df_test.drop(col,axis = 1)\r\n",
    "#     df_test = pd.concat([df_test,one_hot_test],axis=1)\r\n"
   ],
   "outputs": [],
   "metadata": {}
  },
  {
   "cell_type": "code",
   "execution_count": 114,
   "source": [
    "label_encoder = preprocessing.LabelEncoder()\r\n",
    "for col in ['workclass', 'education', 'marital.status', 'occupation', 'relationship', 'sex', 'race', 'native.country']:\r\n",
    "    df_test[col] = label_encoder.fit_transform(df_test[col]) \r\n",
    "    df_train[col]= label_encoder.transform(df_train[col]) \r\n",
    "    "
   ],
   "outputs": [],
   "metadata": {}
  },
  {
   "cell_type": "code",
   "execution_count": 18,
   "source": [
    "missing_col = None\r\n",
    "for col in df_test.columns:\r\n",
    "    if col not in df_train.columns:\r\n",
    "        df_train[col] = 0\r\n",
    "        print(col)"
   ],
   "outputs": [
    {
     "output_type": "stream",
     "name": "stdout",
     "text": [
      "native.country_Holand-Netherlands\n"
     ]
    }
   ],
   "metadata": {}
  },
  {
   "cell_type": "code",
   "execution_count": 117,
   "source": [
    "X = df_train.loc[:, df_train.columns != 'income>50K']\r\n",
    "y = df_train['income>50K']\r\n",
    "\r\n",
    "X_test_final = df_test.loc[:, df_test.columns != 'income>50K']"
   ],
   "outputs": [],
   "metadata": {}
  },
  {
   "cell_type": "code",
   "execution_count": 136,
   "source": [
    "estimator = XGBClassifier(\r\n",
    "    objective= 'binary:logistic',\r\n",
    "    nthread=4,\r\n",
    "    seed=42\r\n",
    ")\r\n",
    "\r\n",
    "parameters = {\r\n",
    "    'max_depth': [3,4,5],\r\n",
    "    'n_estimators': [200],\r\n",
    "    'learning_rate': [0.3, 0.2],\r\n",
    "    'gamma': [0, 1, 5],\r\n",
    "    \"min_child_weight\":[1]\r\n",
    "}\r\n",
    "\r\n",
    "grid_search = GridSearchCV(\r\n",
    "    estimator=estimator,\r\n",
    "    param_grid=parameters,\r\n",
    "    scoring = 'accuracy',\r\n",
    "    cv = 5,\r\n",
    "    verbose=True\r\n",
    ")"
   ],
   "outputs": [],
   "metadata": {}
  },
  {
   "cell_type": "code",
   "execution_count": 137,
   "source": [
    "grid_search.fit(X,y)"
   ],
   "outputs": [
    {
     "output_type": "stream",
     "name": "stdout",
     "text": [
      "Fitting 5 folds for each of 18 candidates, totalling 90 fits\n"
     ]
    },
    {
     "output_type": "execute_result",
     "data": {
      "text/plain": [
       "GridSearchCV(cv=5,\n",
       "             estimator=XGBClassifier(base_score=None, booster=None,\n",
       "                                     callbacks=None, colsample_bylevel=None,\n",
       "                                     colsample_bynode=None,\n",
       "                                     colsample_bytree=None,\n",
       "                                     early_stopping_rounds=None,\n",
       "                                     enable_categorical=False, eval_metric=None,\n",
       "                                     gamma=None, gpu_id=None, grow_policy=None,\n",
       "                                     importance_type=None,\n",
       "                                     interaction_constraints=None,\n",
       "                                     learning_rate=None, max_bin=None,\n",
       "                                     max_ca...\n",
       "                                     max_delta_step=None, max_depth=None,\n",
       "                                     max_leaves=None, min_child_weight=None,\n",
       "                                     missing=nan, monotone_constraints=None,\n",
       "                                     n_estimators=100, n_jobs=None, nthread=4,\n",
       "                                     num_parallel_tree=None, predictor=None,\n",
       "                                     random_state=None, reg_alpha=None, ...),\n",
       "             param_grid={'gamma': [0, 1, 5], 'learning_rate': [0.3, 0.2],\n",
       "                         'max_depth': [3, 4, 5], 'min_child_weight': [1],\n",
       "                         'n_estimators': [200]},\n",
       "             scoring='accuracy', verbose=True)"
      ]
     },
     "metadata": {},
     "execution_count": 137
    }
   ],
   "metadata": {}
  },
  {
   "cell_type": "code",
   "execution_count": 138,
   "source": [
    "print(\" Results from Grid Search \" )\r\n",
    "print(\"\\n The best estimator across ALL searched params:\\n\",grid_search.best_estimator_)\r\n",
    "print(\"\\n The best score across ALL searched params:\\n\",grid_search.best_score_)\r\n",
    "print(\"\\n The best parameters across ALL searched params:\\n\",grid_search.best_params_)"
   ],
   "outputs": [
    {
     "output_type": "stream",
     "name": "stdout",
     "text": [
      " Results from Grid Search \n",
      "\n",
      " The best estimator across ALL searched params:\n",
      " XGBClassifier(base_score=0.5, booster='gbtree', callbacks=None,\n",
      "              colsample_bylevel=1, colsample_bynode=1, colsample_bytree=1,\n",
      "              early_stopping_rounds=None, enable_categorical=False,\n",
      "              eval_metric=None, gamma=0, gpu_id=-1, grow_policy='depthwise',\n",
      "              importance_type=None, interaction_constraints='',\n",
      "              learning_rate=0.2, max_bin=256, max_cat_to_onehot=4,\n",
      "              max_delta_step=0, max_depth=3, max_leaves=0, min_child_weight=1,\n",
      "              missing=nan, monotone_constraints='()', n_estimators=200,\n",
      "              n_jobs=4, nthread=4, num_parallel_tree=1, predictor='auto',\n",
      "              random_state=42, reg_alpha=0, ...)\n",
      "\n",
      " The best score across ALL searched params:\n",
      " 0.8748799999999999\n",
      "\n",
      " The best parameters across ALL searched params:\n",
      " {'gamma': 0, 'learning_rate': 0.2, 'max_depth': 3, 'min_child_weight': 1, 'n_estimators': 200}\n"
     ]
    }
   ],
   "metadata": {}
  },
  {
   "cell_type": "code",
   "execution_count": 139,
   "source": [
    "best_params = {'gamma': 0, 'learning_rate': 0.1, 'max_depth': 4, 'min_child_weight': 1, 'n_estimators': 360}\r\n",
    "best_params2 = {'gamma': 0, 'learning_rate': 0.1, 'max_depth': 4, 'min_child_weight': 5, 'n_estimators': 300}\r\n",
    "best_params_labelencoded =  {'gamma': 0, 'learning_rate': 0.2, 'max_depth': 3, 'min_child_weight': 1, 'n_estimators': 200}"
   ],
   "outputs": [],
   "metadata": {}
  },
  {
   "cell_type": "code",
   "execution_count": 140,
   "source": [
    "model = XGBClassifier(**best_params_labelencoded)\r\n",
    "model.fit(X, y)"
   ],
   "outputs": [
    {
     "output_type": "execute_result",
     "data": {
      "text/plain": [
       "XGBClassifier(base_score=0.5, booster='gbtree', callbacks=None,\n",
       "              colsample_bylevel=1, colsample_bynode=1, colsample_bytree=1,\n",
       "              early_stopping_rounds=None, enable_categorical=False,\n",
       "              eval_metric=None, gamma=0, gpu_id=-1, grow_policy='depthwise',\n",
       "              importance_type=None, interaction_constraints='',\n",
       "              learning_rate=0.2, max_bin=256, max_cat_to_onehot=4,\n",
       "              max_delta_step=0, max_depth=3, max_leaves=0, min_child_weight=1,\n",
       "              missing=nan, monotone_constraints='()', n_estimators=200,\n",
       "              n_jobs=0, num_parallel_tree=1, predictor='auto', random_state=0,\n",
       "              reg_alpha=0, reg_lambda=1, ...)"
      ]
     },
     "metadata": {},
     "execution_count": 140
    }
   ],
   "metadata": {}
  },
  {
   "cell_type": "code",
   "execution_count": 144,
   "source": [
    "y_pred = model.predict(X_test_final)"
   ],
   "outputs": [],
   "metadata": {}
  },
  {
   "cell_type": "code",
   "execution_count": 145,
   "source": [
    "import csv\r\n",
    "ctr = 1\r\n",
    "data = [['ID', 'Prediction']]\r\n",
    "for pred in y_pred:\r\n",
    "    row = [ctr, pred]\r\n",
    "    data.append(row)\r\n",
    "    ctr += 1\r\n",
    "# open the file in the write mode\r\n",
    "with open('results.csv', 'w', newline='') as f:\r\n",
    "    writer = csv.writer(f)\r\n",
    "    writer.writerows(data)"
   ],
   "outputs": [],
   "metadata": {}
  },
  {
   "cell_type": "code",
   "execution_count": 132,
   "source": [
    "w = np.asarray([1,1,0])\r\n",
    "x=np.asarray([0,1,1])\r\n",
    "w@x"
   ],
   "outputs": [
    {
     "output_type": "execute_result",
     "data": {
      "text/plain": [
       "1"
      ]
     },
     "metadata": {},
     "execution_count": 132
    }
   ],
   "metadata": {}
  },
  {
   "cell_type": "code",
   "execution_count": 133,
   "source": [
    "1 / np.linalg.norm(w)"
   ],
   "outputs": [
    {
     "output_type": "execute_result",
     "data": {
      "text/plain": [
       "0.7071067811865475"
      ]
     },
     "metadata": {},
     "execution_count": 133
    }
   ],
   "metadata": {}
  }
 ],
 "metadata": {
  "orig_nbformat": 4,
  "language_info": {
   "name": "python",
   "version": "3.9.6",
   "mimetype": "text/x-python",
   "codemirror_mode": {
    "name": "ipython",
    "version": 3
   },
   "pygments_lexer": "ipython3",
   "nbconvert_exporter": "python",
   "file_extension": ".py"
  },
  "kernelspec": {
   "name": "python3",
   "display_name": "Python 3.9.6 64-bit"
  },
  "interpreter": {
   "hash": "63fd5069d213b44bf678585dea6b12cceca9941eaf7f819626cde1f2670de90d"
  }
 },
 "nbformat": 4,
 "nbformat_minor": 2
}