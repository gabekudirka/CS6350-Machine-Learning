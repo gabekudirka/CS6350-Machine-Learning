{
 "cells": [
  {
   "cell_type": "code",
   "execution_count": 148,
   "source": [
    "import pandas as pd\r\n",
    "import numpy as np\r\n",
    "from xgboost import XGBClassifier\r\n",
    "from sklearn.model_selection import GridSearchCV\r\n",
    "pd.options.mode.chained_assignment = None\r\n",
    "\r\n",
    "from sklearn.feature_selection import SelectKBest\r\n",
    "from scipy.stats import pointbiserialr, spearmanr"
   ],
   "outputs": [],
   "metadata": {}
  },
  {
   "cell_type": "code",
   "execution_count": 133,
   "source": [
    "df_train = pd.read_csv('train_final.csv')\r\n",
    "df_test = pd.read_csv('test_final.csv')"
   ],
   "outputs": [],
   "metadata": {}
  },
  {
   "cell_type": "code",
   "execution_count": 134,
   "source": [
    "df_train"
   ],
   "outputs": [
    {
     "output_type": "execute_result",
     "data": {
      "text/plain": [
       "       age         workclass  fnlwgt     education  education.num  \\\n",
       "0       53  Self-emp-not-inc   93449   Prof-school             15   \n",
       "1       33  Self-emp-not-inc  123424     Bachelors             13   \n",
       "2       47           Private  144844       HS-grad              9   \n",
       "3       40           Private  114580       HS-grad              9   \n",
       "4       39           Private  115618       HS-grad              9   \n",
       "...    ...               ...     ...           ...            ...   \n",
       "24995   18           Private   83451       HS-grad              9   \n",
       "24996   64         Local-gov  202738       HS-grad              9   \n",
       "24997   39           Private  225544       Masters             14   \n",
       "24998   53           Private  346871       HS-grad              9   \n",
       "24999   18                 ?  192321  Some-college             10   \n",
       "\n",
       "           marital.status        occupation    relationship  \\\n",
       "0      Married-civ-spouse    Prof-specialty         Husband   \n",
       "1      Married-civ-spouse   Exec-managerial         Husband   \n",
       "2      Married-civ-spouse      Craft-repair         Husband   \n",
       "3                Divorced      Craft-repair  Other-relative   \n",
       "4      Married-civ-spouse  Transport-moving         Husband   \n",
       "...                   ...               ...             ...   \n",
       "24995       Never-married      Adm-clerical   Not-in-family   \n",
       "24996  Married-civ-spouse      Adm-clerical            Wife   \n",
       "24997  Married-civ-spouse  Transport-moving         Husband   \n",
       "24998            Divorced    Prof-specialty   Not-in-family   \n",
       "24999       Never-married                 ?       Own-child   \n",
       "\n",
       "                     race     sex  capital.gain  capital.loss  hours.per.week  \\\n",
       "0      Asian-Pac-Islander    Male             0             0              40   \n",
       "1                   White    Male             0             0              40   \n",
       "2                   White    Male             0             0              40   \n",
       "3                   White  Female             0             0              40   \n",
       "4                   White    Male             0             0              50   \n",
       "...                   ...     ...           ...           ...             ...   \n",
       "24995               White  Female             0             0              25   \n",
       "24996               White  Female             0             0              35   \n",
       "24997               White    Male             0             0              40   \n",
       "24998               White    Male          4787             0              46   \n",
       "24999               White    Male             0             0              40   \n",
       "\n",
       "      native.country  income>50K  \n",
       "0              India           1  \n",
       "1      United-States           1  \n",
       "2      United-States           0  \n",
       "3            Vietnam           0  \n",
       "4      United-States           0  \n",
       "...              ...         ...  \n",
       "24995  United-States           0  \n",
       "24996  United-States           0  \n",
       "24997         Poland           0  \n",
       "24998  United-States           1  \n",
       "24999  United-States           0  \n",
       "\n",
       "[25000 rows x 15 columns]"
      ],
      "text/html": [
       "<div>\n",
       "<style scoped>\n",
       "    .dataframe tbody tr th:only-of-type {\n",
       "        vertical-align: middle;\n",
       "    }\n",
       "\n",
       "    .dataframe tbody tr th {\n",
       "        vertical-align: top;\n",
       "    }\n",
       "\n",
       "    .dataframe thead th {\n",
       "        text-align: right;\n",
       "    }\n",
       "</style>\n",
       "<table border=\"1\" class=\"dataframe\">\n",
       "  <thead>\n",
       "    <tr style=\"text-align: right;\">\n",
       "      <th></th>\n",
       "      <th>age</th>\n",
       "      <th>workclass</th>\n",
       "      <th>fnlwgt</th>\n",
       "      <th>education</th>\n",
       "      <th>education.num</th>\n",
       "      <th>marital.status</th>\n",
       "      <th>occupation</th>\n",
       "      <th>relationship</th>\n",
       "      <th>race</th>\n",
       "      <th>sex</th>\n",
       "      <th>capital.gain</th>\n",
       "      <th>capital.loss</th>\n",
       "      <th>hours.per.week</th>\n",
       "      <th>native.country</th>\n",
       "      <th>income&gt;50K</th>\n",
       "    </tr>\n",
       "  </thead>\n",
       "  <tbody>\n",
       "    <tr>\n",
       "      <th>0</th>\n",
       "      <td>53</td>\n",
       "      <td>Self-emp-not-inc</td>\n",
       "      <td>93449</td>\n",
       "      <td>Prof-school</td>\n",
       "      <td>15</td>\n",
       "      <td>Married-civ-spouse</td>\n",
       "      <td>Prof-specialty</td>\n",
       "      <td>Husband</td>\n",
       "      <td>Asian-Pac-Islander</td>\n",
       "      <td>Male</td>\n",
       "      <td>0</td>\n",
       "      <td>0</td>\n",
       "      <td>40</td>\n",
       "      <td>India</td>\n",
       "      <td>1</td>\n",
       "    </tr>\n",
       "    <tr>\n",
       "      <th>1</th>\n",
       "      <td>33</td>\n",
       "      <td>Self-emp-not-inc</td>\n",
       "      <td>123424</td>\n",
       "      <td>Bachelors</td>\n",
       "      <td>13</td>\n",
       "      <td>Married-civ-spouse</td>\n",
       "      <td>Exec-managerial</td>\n",
       "      <td>Husband</td>\n",
       "      <td>White</td>\n",
       "      <td>Male</td>\n",
       "      <td>0</td>\n",
       "      <td>0</td>\n",
       "      <td>40</td>\n",
       "      <td>United-States</td>\n",
       "      <td>1</td>\n",
       "    </tr>\n",
       "    <tr>\n",
       "      <th>2</th>\n",
       "      <td>47</td>\n",
       "      <td>Private</td>\n",
       "      <td>144844</td>\n",
       "      <td>HS-grad</td>\n",
       "      <td>9</td>\n",
       "      <td>Married-civ-spouse</td>\n",
       "      <td>Craft-repair</td>\n",
       "      <td>Husband</td>\n",
       "      <td>White</td>\n",
       "      <td>Male</td>\n",
       "      <td>0</td>\n",
       "      <td>0</td>\n",
       "      <td>40</td>\n",
       "      <td>United-States</td>\n",
       "      <td>0</td>\n",
       "    </tr>\n",
       "    <tr>\n",
       "      <th>3</th>\n",
       "      <td>40</td>\n",
       "      <td>Private</td>\n",
       "      <td>114580</td>\n",
       "      <td>HS-grad</td>\n",
       "      <td>9</td>\n",
       "      <td>Divorced</td>\n",
       "      <td>Craft-repair</td>\n",
       "      <td>Other-relative</td>\n",
       "      <td>White</td>\n",
       "      <td>Female</td>\n",
       "      <td>0</td>\n",
       "      <td>0</td>\n",
       "      <td>40</td>\n",
       "      <td>Vietnam</td>\n",
       "      <td>0</td>\n",
       "    </tr>\n",
       "    <tr>\n",
       "      <th>4</th>\n",
       "      <td>39</td>\n",
       "      <td>Private</td>\n",
       "      <td>115618</td>\n",
       "      <td>HS-grad</td>\n",
       "      <td>9</td>\n",
       "      <td>Married-civ-spouse</td>\n",
       "      <td>Transport-moving</td>\n",
       "      <td>Husband</td>\n",
       "      <td>White</td>\n",
       "      <td>Male</td>\n",
       "      <td>0</td>\n",
       "      <td>0</td>\n",
       "      <td>50</td>\n",
       "      <td>United-States</td>\n",
       "      <td>0</td>\n",
       "    </tr>\n",
       "    <tr>\n",
       "      <th>...</th>\n",
       "      <td>...</td>\n",
       "      <td>...</td>\n",
       "      <td>...</td>\n",
       "      <td>...</td>\n",
       "      <td>...</td>\n",
       "      <td>...</td>\n",
       "      <td>...</td>\n",
       "      <td>...</td>\n",
       "      <td>...</td>\n",
       "      <td>...</td>\n",
       "      <td>...</td>\n",
       "      <td>...</td>\n",
       "      <td>...</td>\n",
       "      <td>...</td>\n",
       "      <td>...</td>\n",
       "    </tr>\n",
       "    <tr>\n",
       "      <th>24995</th>\n",
       "      <td>18</td>\n",
       "      <td>Private</td>\n",
       "      <td>83451</td>\n",
       "      <td>HS-grad</td>\n",
       "      <td>9</td>\n",
       "      <td>Never-married</td>\n",
       "      <td>Adm-clerical</td>\n",
       "      <td>Not-in-family</td>\n",
       "      <td>White</td>\n",
       "      <td>Female</td>\n",
       "      <td>0</td>\n",
       "      <td>0</td>\n",
       "      <td>25</td>\n",
       "      <td>United-States</td>\n",
       "      <td>0</td>\n",
       "    </tr>\n",
       "    <tr>\n",
       "      <th>24996</th>\n",
       "      <td>64</td>\n",
       "      <td>Local-gov</td>\n",
       "      <td>202738</td>\n",
       "      <td>HS-grad</td>\n",
       "      <td>9</td>\n",
       "      <td>Married-civ-spouse</td>\n",
       "      <td>Adm-clerical</td>\n",
       "      <td>Wife</td>\n",
       "      <td>White</td>\n",
       "      <td>Female</td>\n",
       "      <td>0</td>\n",
       "      <td>0</td>\n",
       "      <td>35</td>\n",
       "      <td>United-States</td>\n",
       "      <td>0</td>\n",
       "    </tr>\n",
       "    <tr>\n",
       "      <th>24997</th>\n",
       "      <td>39</td>\n",
       "      <td>Private</td>\n",
       "      <td>225544</td>\n",
       "      <td>Masters</td>\n",
       "      <td>14</td>\n",
       "      <td>Married-civ-spouse</td>\n",
       "      <td>Transport-moving</td>\n",
       "      <td>Husband</td>\n",
       "      <td>White</td>\n",
       "      <td>Male</td>\n",
       "      <td>0</td>\n",
       "      <td>0</td>\n",
       "      <td>40</td>\n",
       "      <td>Poland</td>\n",
       "      <td>0</td>\n",
       "    </tr>\n",
       "    <tr>\n",
       "      <th>24998</th>\n",
       "      <td>53</td>\n",
       "      <td>Private</td>\n",
       "      <td>346871</td>\n",
       "      <td>HS-grad</td>\n",
       "      <td>9</td>\n",
       "      <td>Divorced</td>\n",
       "      <td>Prof-specialty</td>\n",
       "      <td>Not-in-family</td>\n",
       "      <td>White</td>\n",
       "      <td>Male</td>\n",
       "      <td>4787</td>\n",
       "      <td>0</td>\n",
       "      <td>46</td>\n",
       "      <td>United-States</td>\n",
       "      <td>1</td>\n",
       "    </tr>\n",
       "    <tr>\n",
       "      <th>24999</th>\n",
       "      <td>18</td>\n",
       "      <td>?</td>\n",
       "      <td>192321</td>\n",
       "      <td>Some-college</td>\n",
       "      <td>10</td>\n",
       "      <td>Never-married</td>\n",
       "      <td>?</td>\n",
       "      <td>Own-child</td>\n",
       "      <td>White</td>\n",
       "      <td>Male</td>\n",
       "      <td>0</td>\n",
       "      <td>0</td>\n",
       "      <td>40</td>\n",
       "      <td>United-States</td>\n",
       "      <td>0</td>\n",
       "    </tr>\n",
       "  </tbody>\n",
       "</table>\n",
       "<p>25000 rows × 15 columns</p>\n",
       "</div>"
      ]
     },
     "metadata": {},
     "execution_count": 134
    }
   ],
   "metadata": {}
  },
  {
   "cell_type": "code",
   "execution_count": 159,
   "source": [
    "df_train['income>50K'].value_counts()"
   ],
   "outputs": [
    {
     "output_type": "execute_result",
     "data": {
      "text/plain": [
       "0    18984\n",
       "1     6016\n",
       "Name: income>50K, dtype: int64"
      ]
     },
     "metadata": {},
     "execution_count": 159
    }
   ],
   "metadata": {}
  },
  {
   "cell_type": "code",
   "execution_count": 136,
   "source": [
    "df_test = df_test.drop('ID',axis = 1)"
   ],
   "outputs": [],
   "metadata": {}
  },
  {
   "cell_type": "code",
   "execution_count": 137,
   "source": [
    "df_train['native.country'][df_train['native.country'] != 'United-States'] = 'Non-US'\r\n",
    "df_test['native.country'][df_test['native.country'] != 'United-States'] = 'Non-US'"
   ],
   "outputs": [],
   "metadata": {}
  },
  {
   "cell_type": "code",
   "execution_count": 138,
   "source": [
    "df_train['marital.status'][df_train['marital.status'] == 'Married-AF-spouse'] = 'Married-spouse-absent'\r\n",
    "df_test['marital.status'][df_test['marital.status'] == 'Married-AF-spouse'] = 'Married-spouse-absent'"
   ],
   "outputs": [],
   "metadata": {}
  },
  {
   "cell_type": "code",
   "execution_count": 139,
   "source": [
    "df_train['education'][df_train['education'] == '11th'] = 'No-HS'\r\n",
    "df_test['education'][df_test['education'] == '11th'] = 'No-HS'\r\n",
    "\r\n",
    "df_train['education'][df_train['education'] == '10th'] = 'No-HS'\r\n",
    "df_test['education'][df_test['education'] == '10th'] = 'No-HS'\r\n",
    "\r\n",
    "df_train['education'][df_train['education'] == '7th-8th'] = 'No-HS'\r\n",
    "df_test['education'][df_test['education'] == '7th-8th'] = 'No-HS'\r\n",
    "\r\n",
    "df_train['education'][df_train['education'] == '9th'] = 'No-HS'\r\n",
    "df_test['education'][df_test['education'] == '9th'] = 'No-HS'\r\n",
    "\r\n",
    "df_train['education'][df_train['education'] == '12th'] = 'No-HS'\r\n",
    "df_test['education'][df_test['education'] == '12th'] = 'No-HS'\r\n",
    "\r\n",
    "df_train['education'][df_train['education'] == '5th-6th'] = 'No-HS'\r\n",
    "df_test['education'][df_test['education'] == '5th-6th'] = 'No-HS'\r\n",
    "\r\n",
    "df_train['education'][df_train['education'] == '1st-4th'] = 'No-HS'\r\n",
    "df_test['education'][df_test['education'] == '1st-4th'] = 'No-HS'\r\n",
    "\r\n",
    "df_train['education'][df_train['education'] == 'Preschool'] = 'No-HS'\r\n",
    "df_test['education'][df_test['education'] == 'Preschool'] = 'No-HS'"
   ],
   "outputs": [],
   "metadata": {}
  },
  {
   "cell_type": "code",
   "execution_count": 140,
   "source": [
    "df_train.education.value_counts()"
   ],
   "outputs": [
    {
     "output_type": "execute_result",
     "data": {
      "text/plain": [
       "HS-grad         8119\n",
       "Some-college    5571\n",
       "Bachelors       4044\n",
       "No-HS           3273\n",
       "Masters         1369\n",
       "Assoc-voc       1055\n",
       "Assoc-acdm       812\n",
       "Prof-school      450\n",
       "Doctorate        307\n",
       "Name: education, dtype: int64"
      ]
     },
     "metadata": {},
     "execution_count": 140
    }
   ],
   "metadata": {}
  },
  {
   "cell_type": "code",
   "execution_count": 141,
   "source": [
    "df_test['marital.status'].value_counts()"
   ],
   "outputs": [
    {
     "output_type": "execute_result",
     "data": {
      "text/plain": [
       "Married-civ-spouse       10936\n",
       "Never-married             7891\n",
       "Divorced                  3221\n",
       "Separated                  801\n",
       "Widowed                    681\n",
       "Married-spouse-absent      312\n",
       "Name: marital.status, dtype: int64"
      ]
     },
     "metadata": {},
     "execution_count": 141
    }
   ],
   "metadata": {}
  },
  {
   "cell_type": "code",
   "execution_count": 142,
   "source": [
    "df_train.workclass.value_counts()"
   ],
   "outputs": [
    {
     "output_type": "execute_result",
     "data": {
      "text/plain": [
       "Private             17336\n",
       "Self-emp-not-inc     1978\n",
       "Local-gov            1617\n",
       "?                    1437\n",
       "State-gov            1037\n",
       "Self-emp-inc          845\n",
       "Federal-gov           730\n",
       "Without-pay            15\n",
       "Never-worked            5\n",
       "Name: workclass, dtype: int64"
      ]
     },
     "metadata": {},
     "execution_count": 142
    }
   ],
   "metadata": {}
  },
  {
   "cell_type": "code",
   "execution_count": 143,
   "source": [
    "category_cols = ['workclass', 'education', 'marital.status', 'occupation', 'relationship', 'sex', 'race', 'native.country']"
   ],
   "outputs": [],
   "metadata": {}
  },
  {
   "cell_type": "code",
   "execution_count": 144,
   "source": [
    "def one_hot_encode(df):\r\n",
    "    for col in category_cols:\r\n",
    "        one_hot_train = pd.get_dummies(df[col], prefix=col)\r\n",
    "\r\n",
    "        df = df.drop(col,axis = 1)\r\n",
    "        df = pd.concat([df,one_hot_train],axis=1)"
   ],
   "outputs": [],
   "metadata": {}
  },
  {
   "cell_type": "code",
   "execution_count": 145,
   "source": [
    "def discretize(df):\r\n",
    "    for col in category_cols:\r\n",
    "        b, c = np.unique(df[col], return_inverse=True) \r\n",
    "        df[col] = c\r\n",
    "    return df"
   ],
   "outputs": [],
   "metadata": {}
  },
  {
   "cell_type": "code",
   "execution_count": 146,
   "source": [
    "# df_test = one_hot_encode(df_test)\r\n",
    "# df_train = one_hot_encode(df_train)\r\n",
    "\r\n",
    "df_test = discretize(df_test)\r\n",
    "df_train = discretize(df_train)"
   ],
   "outputs": [],
   "metadata": {}
  },
  {
   "cell_type": "code",
   "execution_count": 149,
   "source": [
    "col_names = df_train.columns\r\n",
    "\r\n",
    "param=[]\r\n",
    "correlation=[]\r\n",
    "abs_corr=[]\r\n",
    "\r\n",
    "for c in col_names:\r\n",
    "    #Check if binary or continuous\r\n",
    "    if c != \"income>50K\":\r\n",
    "        if len(df_train[c].unique()) <= 2:\r\n",
    "            corr = spearmanr(df_train['income>50K'],df_train[c])[0]\r\n",
    "        else:\r\n",
    "            corr = pointbiserialr(df_train['income>50K'],df_train[c])[0]\r\n",
    "        param.append(c)\r\n",
    "        correlation.append(corr)\r\n",
    "        abs_corr.append(abs(corr))\r\n",
    "\r\n",
    "#Create dataframe for visualization\r\n",
    "param_df=pd.DataFrame({'correlation':correlation,'parameter':param, 'abs_corr':abs_corr})\r\n",
    "\r\n",
    "#Sort by absolute correlation\r\n",
    "param_df=param_df.sort_values(by=['abs_corr'], ascending=False)\r\n",
    "\r\n",
    "#Set parameter name as index\r\n",
    "param_df=param_df.set_index('parameter')\r\n",
    "\r\n",
    "param_df"
   ],
   "outputs": [
    {
     "output_type": "execute_result",
     "data": {
      "text/plain": [
       "                correlation  abs_corr\n",
       "parameter                            \n",
       "education.num      0.335894  0.335894\n",
       "marital.status    -0.255391  0.255391\n",
       "relationship      -0.251130  0.251130\n",
       "hours.per.week     0.231433  0.231433\n",
       "capital.gain       0.226695  0.226695\n",
       "age                0.225395  0.225395\n",
       "sex                0.216250  0.216250\n",
       "capital.loss       0.151825  0.151825\n",
       "education         -0.109948  0.109948\n",
       "occupation         0.078128  0.078128\n",
       "race               0.074213  0.074213\n",
       "workclass          0.054858  0.054858\n",
       "native.country     0.032453  0.032453\n",
       "fnlwgt            -0.001345  0.001345"
      ],
      "text/html": [
       "<div>\n",
       "<style scoped>\n",
       "    .dataframe tbody tr th:only-of-type {\n",
       "        vertical-align: middle;\n",
       "    }\n",
       "\n",
       "    .dataframe tbody tr th {\n",
       "        vertical-align: top;\n",
       "    }\n",
       "\n",
       "    .dataframe thead th {\n",
       "        text-align: right;\n",
       "    }\n",
       "</style>\n",
       "<table border=\"1\" class=\"dataframe\">\n",
       "  <thead>\n",
       "    <tr style=\"text-align: right;\">\n",
       "      <th></th>\n",
       "      <th>correlation</th>\n",
       "      <th>abs_corr</th>\n",
       "    </tr>\n",
       "    <tr>\n",
       "      <th>parameter</th>\n",
       "      <th></th>\n",
       "      <th></th>\n",
       "    </tr>\n",
       "  </thead>\n",
       "  <tbody>\n",
       "    <tr>\n",
       "      <th>education.num</th>\n",
       "      <td>0.335894</td>\n",
       "      <td>0.335894</td>\n",
       "    </tr>\n",
       "    <tr>\n",
       "      <th>marital.status</th>\n",
       "      <td>-0.255391</td>\n",
       "      <td>0.255391</td>\n",
       "    </tr>\n",
       "    <tr>\n",
       "      <th>relationship</th>\n",
       "      <td>-0.251130</td>\n",
       "      <td>0.251130</td>\n",
       "    </tr>\n",
       "    <tr>\n",
       "      <th>hours.per.week</th>\n",
       "      <td>0.231433</td>\n",
       "      <td>0.231433</td>\n",
       "    </tr>\n",
       "    <tr>\n",
       "      <th>capital.gain</th>\n",
       "      <td>0.226695</td>\n",
       "      <td>0.226695</td>\n",
       "    </tr>\n",
       "    <tr>\n",
       "      <th>age</th>\n",
       "      <td>0.225395</td>\n",
       "      <td>0.225395</td>\n",
       "    </tr>\n",
       "    <tr>\n",
       "      <th>sex</th>\n",
       "      <td>0.216250</td>\n",
       "      <td>0.216250</td>\n",
       "    </tr>\n",
       "    <tr>\n",
       "      <th>capital.loss</th>\n",
       "      <td>0.151825</td>\n",
       "      <td>0.151825</td>\n",
       "    </tr>\n",
       "    <tr>\n",
       "      <th>education</th>\n",
       "      <td>-0.109948</td>\n",
       "      <td>0.109948</td>\n",
       "    </tr>\n",
       "    <tr>\n",
       "      <th>occupation</th>\n",
       "      <td>0.078128</td>\n",
       "      <td>0.078128</td>\n",
       "    </tr>\n",
       "    <tr>\n",
       "      <th>race</th>\n",
       "      <td>0.074213</td>\n",
       "      <td>0.074213</td>\n",
       "    </tr>\n",
       "    <tr>\n",
       "      <th>workclass</th>\n",
       "      <td>0.054858</td>\n",
       "      <td>0.054858</td>\n",
       "    </tr>\n",
       "    <tr>\n",
       "      <th>native.country</th>\n",
       "      <td>0.032453</td>\n",
       "      <td>0.032453</td>\n",
       "    </tr>\n",
       "    <tr>\n",
       "      <th>fnlwgt</th>\n",
       "      <td>-0.001345</td>\n",
       "      <td>0.001345</td>\n",
       "    </tr>\n",
       "  </tbody>\n",
       "</table>\n",
       "</div>"
      ]
     },
     "metadata": {},
     "execution_count": 149
    }
   ],
   "metadata": {}
  },
  {
   "cell_type": "code",
   "execution_count": 152,
   "source": [
    "low_corr_cols = param_df.index[0:8]\r\n",
    "for col in low_corr_cols:\r\n",
    "    df_train = df_train.drop(col,axis = 1)\r\n",
    "    df_test = df_test.drop(col,axis = 1)\r\n",
    "    "
   ],
   "outputs": [],
   "metadata": {}
  },
  {
   "cell_type": "code",
   "execution_count": 93,
   "source": [
    "# missing_col = None\r\n",
    "# for col in df_train.columns:\r\n",
    "#     if col not in df_test.columns:\r\n",
    "#         # df_train[col] = 0\r\n",
    "#         print(col)"
   ],
   "outputs": [
    {
     "output_type": "stream",
     "name": "stdout",
     "text": [
      "income>50K\n"
     ]
    }
   ],
   "metadata": {}
  },
  {
   "cell_type": "code",
   "execution_count": 153,
   "source": [
    "X = df_train.loc[:, df_train.columns != 'income>50K']\r\n",
    "y = df_train['income>50K']\r\n",
    "\r\n",
    "\r\n",
    "X_test_final = df_test.loc[:, df_test.columns != 'income>50K']"
   ],
   "outputs": [],
   "metadata": {}
  },
  {
   "cell_type": "code",
   "execution_count": 10,
   "source": [
    "estimator = XGBClassifier(\r\n",
    "    objective= 'binary:logistic',\r\n",
    "    nthread=4,\r\n",
    "    seed=42\r\n",
    ")\r\n",
    "\r\n",
    "parameters = {\r\n",
    "    'max_depth': range (2, 10, 1),\r\n",
    "    'n_estimators': range(60, 220, 40),\r\n",
    "    'learning_rate': [0.1, 0.01, 0.05],\r\n",
    "    \"subsample\":[0.5, 0.75, 1],\r\n",
    "    \"min_child_weight\":[1,5,15]\r\n",
    "}"
   ],
   "outputs": [],
   "metadata": {}
  },
  {
   "cell_type": "code",
   "execution_count": 11,
   "source": [
    "grid_search = GridSearchCV(\r\n",
    "    estimator=estimator,\r\n",
    "    param_grid=parameters,\r\n",
    "    scoring = 'roc_auc',\r\n",
    "    n_jobs = 10,\r\n",
    "    cv = 1,\r\n",
    "    verbose=True\r\n",
    ")"
   ],
   "outputs": [],
   "metadata": {}
  },
  {
   "cell_type": "code",
   "execution_count": null,
   "source": [
    "grid_search.fit(X,y)"
   ],
   "outputs": [],
   "metadata": {}
  },
  {
   "cell_type": "code",
   "execution_count": null,
   "source": [
    "print(\" Results from Grid Search \" )\r\n",
    "print(\"\\n The best estimator across ALL searched params:\\n\",grid_search.best_estimator_)\r\n",
    "print(\"\\n The best score across ALL searched params:\\n\",grid_search.best_score_)\r\n",
    "print(\"\\n The best parameters across ALL searched params:\\n\",grid_search.best_params_)"
   ],
   "outputs": [],
   "metadata": {}
  },
  {
   "cell_type": "code",
   "execution_count": 154,
   "source": [
    "model = XGBClassifier(eta='0.1', subsample=0.8)\r\n",
    "model.fit(X, y)"
   ],
   "outputs": [
    {
     "output_type": "execute_result",
     "data": {
      "text/plain": [
       "XGBClassifier(base_score=0.5, booster='gbtree', callbacks=None,\n",
       "              colsample_bylevel=1, colsample_bynode=1, colsample_bytree=1,\n",
       "              early_stopping_rounds=None, enable_categorical=False, eta='0.1',\n",
       "              eval_metric=None, gamma=0, gpu_id=-1, grow_policy='depthwise',\n",
       "              importance_type=None, interaction_constraints='',\n",
       "              learning_rate=0.100000001, max_bin=256, max_cat_to_onehot=4,\n",
       "              max_delta_step=0, max_depth=6, max_leaves=0, min_child_weight=1,\n",
       "              missing=nan, monotone_constraints='()', n_estimators=100,\n",
       "              n_jobs=0, num_parallel_tree=1, predictor='auto', random_state=0,\n",
       "              reg_alpha=0, ...)"
      ]
     },
     "metadata": {},
     "execution_count": 154
    }
   ],
   "metadata": {}
  },
  {
   "cell_type": "code",
   "execution_count": 155,
   "source": [
    "y_pred = model.predict(X_test_final)"
   ],
   "outputs": [],
   "metadata": {}
  },
  {
   "cell_type": "code",
   "execution_count": 156,
   "source": [
    "y_pred.shape"
   ],
   "outputs": [
    {
     "output_type": "execute_result",
     "data": {
      "text/plain": [
       "(23842,)"
      ]
     },
     "metadata": {},
     "execution_count": 156
    }
   ],
   "metadata": {}
  },
  {
   "cell_type": "code",
   "execution_count": 157,
   "source": [
    "y_pred"
   ],
   "outputs": [
    {
     "output_type": "execute_result",
     "data": {
      "text/plain": [
       "array([0, 0, 0, ..., 1, 0, 0])"
      ]
     },
     "metadata": {},
     "execution_count": 157
    }
   ],
   "metadata": {}
  },
  {
   "cell_type": "code",
   "execution_count": 158,
   "source": [
    "import csv\r\n",
    "ctr = 1\r\n",
    "data = [['ID', 'Prediction']]\r\n",
    "for pred in y_pred:\r\n",
    "    row = [ctr, pred]\r\n",
    "    data.append(row)\r\n",
    "    ctr += 1\r\n",
    "# open the file in the write mode\r\n",
    "with open('results.csv', 'w', newline='') as f:\r\n",
    "    writer = csv.writer(f)\r\n",
    "    writer.writerows(data)"
   ],
   "outputs": [],
   "metadata": {}
  },
  {
   "cell_type": "code",
   "execution_count": 132,
   "source": [
    "w = np.asarray([1,1,0])\r\n",
    "x=np.asarray([0,1,1])\r\n",
    "w@x"
   ],
   "outputs": [
    {
     "output_type": "execute_result",
     "data": {
      "text/plain": [
       "1"
      ]
     },
     "metadata": {},
     "execution_count": 132
    }
   ],
   "metadata": {}
  },
  {
   "cell_type": "code",
   "execution_count": 133,
   "source": [
    "1 / np.linalg.norm(w)"
   ],
   "outputs": [
    {
     "output_type": "execute_result",
     "data": {
      "text/plain": [
       "0.7071067811865475"
      ]
     },
     "metadata": {},
     "execution_count": 133
    }
   ],
   "metadata": {}
  }
 ],
 "metadata": {
  "orig_nbformat": 4,
  "language_info": {
   "name": "python",
   "version": "3.9.6",
   "mimetype": "text/x-python",
   "codemirror_mode": {
    "name": "ipython",
    "version": 3
   },
   "pygments_lexer": "ipython3",
   "nbconvert_exporter": "python",
   "file_extension": ".py"
  },
  "kernelspec": {
   "name": "python3",
   "display_name": "Python 3.9.6 64-bit"
  },
  "interpreter": {
   "hash": "63fd5069d213b44bf678585dea6b12cceca9941eaf7f819626cde1f2670de90d"
  }
 },
 "nbformat": 4,
 "nbformat_minor": 2
}